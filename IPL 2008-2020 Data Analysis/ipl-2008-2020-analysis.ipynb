{
 "cells": [
  {
   "cell_type": "markdown",
   "metadata": {
    "papermill": {
     "duration": 0.04491,
     "end_time": "2021-02-12T07:59:42.181853",
     "exception": false,
     "start_time": "2021-02-12T07:59:42.136943",
     "status": "completed"
    },
    "tags": []
   },
   "source": [
    "# IPL 2008 -2020"
   ]
  },
  {
   "cell_type": "markdown",
   "metadata": {
    "papermill": {
     "duration": 0.041923,
     "end_time": "2021-02-12T07:59:42.266365",
     "exception": false,
     "start_time": "2021-02-12T07:59:42.224442",
     "status": "completed"
    },
    "tags": []
   },
   "source": [
    "## Importing Libraries "
   ]
  },
  {
   "cell_type": "code",
   "execution_count": 1,
   "metadata": {
    "_cell_guid": "b1076dfc-b9ad-4769-8c92-a6c4dae69d19",
    "_uuid": "8f2839f25d086af736a60e9eeb907d3b93b6e0e5",
    "execution": {
     "iopub.execute_input": "2021-02-12T07:59:42.360881Z",
     "iopub.status.busy": "2021-02-12T07:59:42.360210Z",
     "iopub.status.idle": "2021-02-12T07:59:43.209698Z",
     "shell.execute_reply": "2021-02-12T07:59:43.210570Z"
    },
    "papermill": {
     "duration": 0.902437,
     "end_time": "2021-02-12T07:59:43.210993",
     "exception": false,
     "start_time": "2021-02-12T07:59:42.308556",
     "status": "completed"
    },
    "tags": []
   },
   "outputs": [
    {
     "name": "stdout",
     "output_type": "stream",
     "text": [
      "/kaggle/input/ipl-complete-dataset-20082020/IPL Matches 2008-2020.csv\n",
      "/kaggle/input/ipl-complete-dataset-20082020/IPL Ball-by-Ball 2008-2020.csv\n"
     ]
    }
   ],
   "source": [
    "\n",
    "import numpy as np\n",
    "import pandas as pd\n",
    "import matplotlib.pyplot as plt\n",
    "import seaborn as sns\n",
    "%matplotlib inline\n",
    "sns.set(rc={'figure.figsize':(12,10)})\n",
    "#plt.figure(figsize=(15,12))\n",
    "\n",
    "\n",
    "\n",
    "import os\n",
    "for dirname, _, filenames in os.walk('/kaggle/input'):\n",
    "    for filename in filenames:\n",
    "        print(os.path.join(dirname, filename))\n",
    "\n"
   ]
  },
  {
   "cell_type": "markdown",
   "metadata": {
    "papermill": {
     "duration": 0.042489,
     "end_time": "2021-02-12T07:59:43.297619",
     "exception": false,
     "start_time": "2021-02-12T07:59:43.255130",
     "status": "completed"
    },
    "tags": []
   },
   "source": [
    "## Importing Dataset"
   ]
  },
  {
   "cell_type": "code",
   "execution_count": 2,
   "metadata": {
    "execution": {
     "iopub.execute_input": "2021-02-12T07:59:43.388523Z",
     "iopub.status.busy": "2021-02-12T07:59:43.387912Z",
     "iopub.status.idle": "2021-02-12T07:59:44.194426Z",
     "shell.execute_reply": "2021-02-12T07:59:44.193505Z"
    },
    "papermill": {
     "duration": 0.854033,
     "end_time": "2021-02-12T07:59:44.194576",
     "exception": false,
     "start_time": "2021-02-12T07:59:43.340543",
     "status": "completed"
    },
    "tags": []
   },
   "outputs": [],
   "source": [
    "matches = pd.read_csv(\"../input/ipl-complete-dataset-20082020/IPL Matches 2008-2020.csv\")\n",
    "deliveries = pd.read_csv(\"../input/ipl-complete-dataset-20082020/IPL Ball-by-Ball 2008-2020.csv\")"
   ]
  },
  {
   "cell_type": "code",
   "execution_count": 3,
   "metadata": {
    "execution": {
     "iopub.execute_input": "2021-02-12T07:59:44.291779Z",
     "iopub.status.busy": "2021-02-12T07:59:44.290922Z",
     "iopub.status.idle": "2021-02-12T07:59:44.300831Z",
     "shell.execute_reply": "2021-02-12T07:59:44.301389Z"
    },
    "papermill": {
     "duration": 0.064079,
     "end_time": "2021-02-12T07:59:44.301565",
     "exception": false,
     "start_time": "2021-02-12T07:59:44.237486",
     "status": "completed"
    },
    "tags": []
   },
   "outputs": [
    {
     "data": {
      "text/plain": [
       "array(['Royal Challengers Bangalore', 'Kings XI Punjab',\n",
       "       'Delhi Daredevils', 'Mumbai Indians', 'Kolkata Knight Riders',\n",
       "       'Rajasthan Royals', 'Deccan Chargers', 'Chennai Super Kings',\n",
       "       'Kochi Tuskers Kerala', 'Pune Warriors', 'Sunrisers Hyderabad',\n",
       "       'Gujarat Lions', 'Rising Pune Supergiants',\n",
       "       'Rising Pune Supergiant', 'Delhi Capitals'], dtype=object)"
      ]
     },
     "execution_count": 3,
     "metadata": {},
     "output_type": "execute_result"
    }
   ],
   "source": [
    "team_names = matches.team1.unique()\n",
    "team_names"
   ]
  },
  {
   "cell_type": "code",
   "execution_count": 4,
   "metadata": {
    "execution": {
     "iopub.execute_input": "2021-02-12T07:59:44.393313Z",
     "iopub.status.busy": "2021-02-12T07:59:44.392282Z",
     "iopub.status.idle": "2021-02-12T07:59:44.412153Z",
     "shell.execute_reply": "2021-02-12T07:59:44.411437Z"
    },
    "papermill": {
     "duration": 0.066995,
     "end_time": "2021-02-12T07:59:44.412301",
     "exception": false,
     "start_time": "2021-02-12T07:59:44.345306",
     "status": "completed"
    },
    "tags": []
   },
   "outputs": [],
   "source": [
    "team_names_abv = [\"RCB\",\"KXIP\",\"DD\",\"MI\",\"KKR\",\"RR\",\"DeCh\",\"CSK\",\"KTK\",\"PWI\",\"SH\",\"GL\",\"RPS\",\"RPS\",\"DC\"]\n",
    "matches.replace(team_names,team_names_abv,inplace = True)"
   ]
  },
  {
   "cell_type": "code",
   "execution_count": 5,
   "metadata": {
    "execution": {
     "iopub.execute_input": "2021-02-12T07:59:44.513328Z",
     "iopub.status.busy": "2021-02-12T07:59:44.512270Z",
     "iopub.status.idle": "2021-02-12T07:59:44.545424Z",
     "shell.execute_reply": "2021-02-12T07:59:44.544809Z"
    },
    "papermill": {
     "duration": 0.088869,
     "end_time": "2021-02-12T07:59:44.545561",
     "exception": false,
     "start_time": "2021-02-12T07:59:44.456692",
     "status": "completed"
    },
    "tags": []
   },
   "outputs": [
    {
     "data": {
      "text/html": [
       "<div>\n",
       "<style scoped>\n",
       "    .dataframe tbody tr th:only-of-type {\n",
       "        vertical-align: middle;\n",
       "    }\n",
       "\n",
       "    .dataframe tbody tr th {\n",
       "        vertical-align: top;\n",
       "    }\n",
       "\n",
       "    .dataframe thead th {\n",
       "        text-align: right;\n",
       "    }\n",
       "</style>\n",
       "<table border=\"1\" class=\"dataframe\">\n",
       "  <thead>\n",
       "    <tr style=\"text-align: right;\">\n",
       "      <th></th>\n",
       "      <th>id</th>\n",
       "      <th>city</th>\n",
       "      <th>date</th>\n",
       "      <th>player_of_match</th>\n",
       "      <th>venue</th>\n",
       "      <th>neutral_venue</th>\n",
       "      <th>team1</th>\n",
       "      <th>team2</th>\n",
       "      <th>toss_winner</th>\n",
       "      <th>toss_decision</th>\n",
       "      <th>winner</th>\n",
       "      <th>result</th>\n",
       "      <th>result_margin</th>\n",
       "      <th>eliminator</th>\n",
       "      <th>method</th>\n",
       "      <th>umpire1</th>\n",
       "      <th>umpire2</th>\n",
       "    </tr>\n",
       "  </thead>\n",
       "  <tbody>\n",
       "    <tr>\n",
       "      <th>0</th>\n",
       "      <td>335982</td>\n",
       "      <td>Bangalore</td>\n",
       "      <td>2008-04-18</td>\n",
       "      <td>BB McCullum</td>\n",
       "      <td>M Chinnaswamy Stadium</td>\n",
       "      <td>0</td>\n",
       "      <td>RCB</td>\n",
       "      <td>KKR</td>\n",
       "      <td>RCB</td>\n",
       "      <td>field</td>\n",
       "      <td>KKR</td>\n",
       "      <td>runs</td>\n",
       "      <td>140.0</td>\n",
       "      <td>N</td>\n",
       "      <td>NaN</td>\n",
       "      <td>Asad Rauf</td>\n",
       "      <td>RE Koertzen</td>\n",
       "    </tr>\n",
       "    <tr>\n",
       "      <th>1</th>\n",
       "      <td>335983</td>\n",
       "      <td>Chandigarh</td>\n",
       "      <td>2008-04-19</td>\n",
       "      <td>MEK Hussey</td>\n",
       "      <td>Punjab Cricket Association Stadium, Mohali</td>\n",
       "      <td>0</td>\n",
       "      <td>KXIP</td>\n",
       "      <td>CSK</td>\n",
       "      <td>CSK</td>\n",
       "      <td>bat</td>\n",
       "      <td>CSK</td>\n",
       "      <td>runs</td>\n",
       "      <td>33.0</td>\n",
       "      <td>N</td>\n",
       "      <td>NaN</td>\n",
       "      <td>MR Benson</td>\n",
       "      <td>SL Shastri</td>\n",
       "    </tr>\n",
       "    <tr>\n",
       "      <th>2</th>\n",
       "      <td>335984</td>\n",
       "      <td>Delhi</td>\n",
       "      <td>2008-04-19</td>\n",
       "      <td>MF Maharoof</td>\n",
       "      <td>Feroz Shah Kotla</td>\n",
       "      <td>0</td>\n",
       "      <td>DD</td>\n",
       "      <td>RR</td>\n",
       "      <td>RR</td>\n",
       "      <td>bat</td>\n",
       "      <td>DD</td>\n",
       "      <td>wickets</td>\n",
       "      <td>9.0</td>\n",
       "      <td>N</td>\n",
       "      <td>NaN</td>\n",
       "      <td>Aleem Dar</td>\n",
       "      <td>GA Pratapkumar</td>\n",
       "    </tr>\n",
       "    <tr>\n",
       "      <th>3</th>\n",
       "      <td>335985</td>\n",
       "      <td>Mumbai</td>\n",
       "      <td>2008-04-20</td>\n",
       "      <td>MV Boucher</td>\n",
       "      <td>Wankhede Stadium</td>\n",
       "      <td>0</td>\n",
       "      <td>MI</td>\n",
       "      <td>RCB</td>\n",
       "      <td>MI</td>\n",
       "      <td>bat</td>\n",
       "      <td>RCB</td>\n",
       "      <td>wickets</td>\n",
       "      <td>5.0</td>\n",
       "      <td>N</td>\n",
       "      <td>NaN</td>\n",
       "      <td>SJ Davis</td>\n",
       "      <td>DJ Harper</td>\n",
       "    </tr>\n",
       "    <tr>\n",
       "      <th>4</th>\n",
       "      <td>335986</td>\n",
       "      <td>Kolkata</td>\n",
       "      <td>2008-04-20</td>\n",
       "      <td>DJ Hussey</td>\n",
       "      <td>Eden Gardens</td>\n",
       "      <td>0</td>\n",
       "      <td>KKR</td>\n",
       "      <td>DeCh</td>\n",
       "      <td>DeCh</td>\n",
       "      <td>bat</td>\n",
       "      <td>KKR</td>\n",
       "      <td>wickets</td>\n",
       "      <td>5.0</td>\n",
       "      <td>N</td>\n",
       "      <td>NaN</td>\n",
       "      <td>BF Bowden</td>\n",
       "      <td>K Hariharan</td>\n",
       "    </tr>\n",
       "    <tr>\n",
       "      <th>...</th>\n",
       "      <td>...</td>\n",
       "      <td>...</td>\n",
       "      <td>...</td>\n",
       "      <td>...</td>\n",
       "      <td>...</td>\n",
       "      <td>...</td>\n",
       "      <td>...</td>\n",
       "      <td>...</td>\n",
       "      <td>...</td>\n",
       "      <td>...</td>\n",
       "      <td>...</td>\n",
       "      <td>...</td>\n",
       "      <td>...</td>\n",
       "      <td>...</td>\n",
       "      <td>...</td>\n",
       "      <td>...</td>\n",
       "      <td>...</td>\n",
       "    </tr>\n",
       "    <tr>\n",
       "      <th>811</th>\n",
       "      <td>1216547</td>\n",
       "      <td>Dubai</td>\n",
       "      <td>2020-09-28</td>\n",
       "      <td>AB de Villiers</td>\n",
       "      <td>Dubai International Cricket Stadium</td>\n",
       "      <td>0</td>\n",
       "      <td>RCB</td>\n",
       "      <td>MI</td>\n",
       "      <td>MI</td>\n",
       "      <td>field</td>\n",
       "      <td>RCB</td>\n",
       "      <td>tie</td>\n",
       "      <td>NaN</td>\n",
       "      <td>Y</td>\n",
       "      <td>NaN</td>\n",
       "      <td>Nitin Menon</td>\n",
       "      <td>PR Reiffel</td>\n",
       "    </tr>\n",
       "    <tr>\n",
       "      <th>812</th>\n",
       "      <td>1237177</td>\n",
       "      <td>Dubai</td>\n",
       "      <td>2020-11-05</td>\n",
       "      <td>JJ Bumrah</td>\n",
       "      <td>Dubai International Cricket Stadium</td>\n",
       "      <td>0</td>\n",
       "      <td>MI</td>\n",
       "      <td>DC</td>\n",
       "      <td>DC</td>\n",
       "      <td>field</td>\n",
       "      <td>MI</td>\n",
       "      <td>runs</td>\n",
       "      <td>57.0</td>\n",
       "      <td>N</td>\n",
       "      <td>NaN</td>\n",
       "      <td>CB Gaffaney</td>\n",
       "      <td>Nitin Menon</td>\n",
       "    </tr>\n",
       "    <tr>\n",
       "      <th>813</th>\n",
       "      <td>1237178</td>\n",
       "      <td>Abu Dhabi</td>\n",
       "      <td>2020-11-06</td>\n",
       "      <td>KS Williamson</td>\n",
       "      <td>Sheikh Zayed Stadium</td>\n",
       "      <td>0</td>\n",
       "      <td>RCB</td>\n",
       "      <td>SH</td>\n",
       "      <td>SH</td>\n",
       "      <td>field</td>\n",
       "      <td>SH</td>\n",
       "      <td>wickets</td>\n",
       "      <td>6.0</td>\n",
       "      <td>N</td>\n",
       "      <td>NaN</td>\n",
       "      <td>PR Reiffel</td>\n",
       "      <td>S Ravi</td>\n",
       "    </tr>\n",
       "    <tr>\n",
       "      <th>814</th>\n",
       "      <td>1237180</td>\n",
       "      <td>Abu Dhabi</td>\n",
       "      <td>2020-11-08</td>\n",
       "      <td>MP Stoinis</td>\n",
       "      <td>Sheikh Zayed Stadium</td>\n",
       "      <td>0</td>\n",
       "      <td>DC</td>\n",
       "      <td>SH</td>\n",
       "      <td>DC</td>\n",
       "      <td>bat</td>\n",
       "      <td>DC</td>\n",
       "      <td>runs</td>\n",
       "      <td>17.0</td>\n",
       "      <td>N</td>\n",
       "      <td>NaN</td>\n",
       "      <td>PR Reiffel</td>\n",
       "      <td>S Ravi</td>\n",
       "    </tr>\n",
       "    <tr>\n",
       "      <th>815</th>\n",
       "      <td>1237181</td>\n",
       "      <td>Dubai</td>\n",
       "      <td>2020-11-10</td>\n",
       "      <td>TA Boult</td>\n",
       "      <td>Dubai International Cricket Stadium</td>\n",
       "      <td>0</td>\n",
       "      <td>DC</td>\n",
       "      <td>MI</td>\n",
       "      <td>DC</td>\n",
       "      <td>bat</td>\n",
       "      <td>MI</td>\n",
       "      <td>wickets</td>\n",
       "      <td>5.0</td>\n",
       "      <td>N</td>\n",
       "      <td>NaN</td>\n",
       "      <td>CB Gaffaney</td>\n",
       "      <td>Nitin Menon</td>\n",
       "    </tr>\n",
       "  </tbody>\n",
       "</table>\n",
       "<p>816 rows × 17 columns</p>\n",
       "</div>"
      ],
      "text/plain": [
       "          id        city        date player_of_match  \\\n",
       "0     335982   Bangalore  2008-04-18     BB McCullum   \n",
       "1     335983  Chandigarh  2008-04-19      MEK Hussey   \n",
       "2     335984       Delhi  2008-04-19     MF Maharoof   \n",
       "3     335985      Mumbai  2008-04-20      MV Boucher   \n",
       "4     335986     Kolkata  2008-04-20       DJ Hussey   \n",
       "..       ...         ...         ...             ...   \n",
       "811  1216547       Dubai  2020-09-28  AB de Villiers   \n",
       "812  1237177       Dubai  2020-11-05       JJ Bumrah   \n",
       "813  1237178   Abu Dhabi  2020-11-06   KS Williamson   \n",
       "814  1237180   Abu Dhabi  2020-11-08      MP Stoinis   \n",
       "815  1237181       Dubai  2020-11-10        TA Boult   \n",
       "\n",
       "                                          venue  neutral_venue team1 team2  \\\n",
       "0                         M Chinnaswamy Stadium              0   RCB   KKR   \n",
       "1    Punjab Cricket Association Stadium, Mohali              0  KXIP   CSK   \n",
       "2                              Feroz Shah Kotla              0    DD    RR   \n",
       "3                              Wankhede Stadium              0    MI   RCB   \n",
       "4                                  Eden Gardens              0   KKR  DeCh   \n",
       "..                                          ...            ...   ...   ...   \n",
       "811         Dubai International Cricket Stadium              0   RCB    MI   \n",
       "812         Dubai International Cricket Stadium              0    MI    DC   \n",
       "813                        Sheikh Zayed Stadium              0   RCB    SH   \n",
       "814                        Sheikh Zayed Stadium              0    DC    SH   \n",
       "815         Dubai International Cricket Stadium              0    DC    MI   \n",
       "\n",
       "    toss_winner toss_decision winner   result  result_margin eliminator  \\\n",
       "0           RCB         field    KKR     runs          140.0          N   \n",
       "1           CSK           bat    CSK     runs           33.0          N   \n",
       "2            RR           bat     DD  wickets            9.0          N   \n",
       "3            MI           bat    RCB  wickets            5.0          N   \n",
       "4          DeCh           bat    KKR  wickets            5.0          N   \n",
       "..          ...           ...    ...      ...            ...        ...   \n",
       "811          MI         field    RCB      tie            NaN          Y   \n",
       "812          DC         field     MI     runs           57.0          N   \n",
       "813          SH         field     SH  wickets            6.0          N   \n",
       "814          DC           bat     DC     runs           17.0          N   \n",
       "815          DC           bat     MI  wickets            5.0          N   \n",
       "\n",
       "    method      umpire1         umpire2  \n",
       "0      NaN    Asad Rauf     RE Koertzen  \n",
       "1      NaN    MR Benson      SL Shastri  \n",
       "2      NaN    Aleem Dar  GA Pratapkumar  \n",
       "3      NaN     SJ Davis       DJ Harper  \n",
       "4      NaN    BF Bowden     K Hariharan  \n",
       "..     ...          ...             ...  \n",
       "811    NaN  Nitin Menon      PR Reiffel  \n",
       "812    NaN  CB Gaffaney     Nitin Menon  \n",
       "813    NaN   PR Reiffel          S Ravi  \n",
       "814    NaN   PR Reiffel          S Ravi  \n",
       "815    NaN  CB Gaffaney     Nitin Menon  \n",
       "\n",
       "[816 rows x 17 columns]"
      ]
     },
     "execution_count": 5,
     "metadata": {},
     "output_type": "execute_result"
    }
   ],
   "source": [
    "matches"
   ]
  },
  {
   "cell_type": "markdown",
   "metadata": {
    "papermill": {
     "duration": 0.044502,
     "end_time": "2021-02-12T07:59:44.634624",
     "exception": false,
     "start_time": "2021-02-12T07:59:44.590122",
     "status": "completed"
    },
    "tags": []
   },
   "source": [
    "## Data Cleaning"
   ]
  },
  {
   "cell_type": "code",
   "execution_count": 6,
   "metadata": {
    "execution": {
     "iopub.execute_input": "2021-02-12T07:59:44.742456Z",
     "iopub.status.busy": "2021-02-12T07:59:44.741435Z",
     "iopub.status.idle": "2021-02-12T07:59:45.122615Z",
     "shell.execute_reply": "2021-02-12T07:59:45.123248Z"
    },
    "papermill": {
     "duration": 0.443952,
     "end_time": "2021-02-12T07:59:45.123422",
     "exception": false,
     "start_time": "2021-02-12T07:59:44.679470",
     "status": "completed"
    },
    "tags": []
   },
   "outputs": [
    {
     "data": {
      "text/plain": [
       "<AxesSubplot:>"
      ]
     },
     "execution_count": 6,
     "metadata": {},
     "output_type": "execute_result"
    },
    {
     "data": {
      "image/png": "[encoded data removed]",
      "text/plain": [
       "<Figure size 864x720 with 1 Axes>"
      ]
     },
     "metadata": {},
     "output_type": "display_data"
    }
   ],
   "source": [
    "matches.isnull().sum().plot(kind='bar')"
   ]
  },
  {
   "cell_type": "markdown",
   "metadata": {
    "papermill": {
     "duration": 0.045947,
     "end_time": "2021-02-12T07:59:45.216465",
     "exception": false,
     "start_time": "2021-02-12T07:59:45.170518",
     "status": "completed"
    },
    "tags": []
   },
   "source": [
    "### Fixing Non D/L Matches"
   ]
  },
  {
   "cell_type": "code",
   "execution_count": 7,
   "metadata": {
    "execution": {
     "iopub.execute_input": "2021-02-12T07:59:45.312843Z",
     "iopub.status.busy": "2021-02-12T07:59:45.311884Z",
     "iopub.status.idle": "2021-02-12T07:59:45.317270Z",
     "shell.execute_reply": "2021-02-12T07:59:45.317841Z"
    },
    "papermill": {
     "duration": 0.055417,
     "end_time": "2021-02-12T07:59:45.318013",
     "exception": false,
     "start_time": "2021-02-12T07:59:45.262596",
     "status": "completed"
    },
    "tags": []
   },
   "outputs": [],
   "source": [
    "matches = matches.fillna(value={'method':0})\n"
   ]
  },
  {
   "cell_type": "code",
   "execution_count": 8,
   "metadata": {
    "execution": {
     "iopub.execute_input": "2021-02-12T07:59:45.414340Z",
     "iopub.status.busy": "2021-02-12T07:59:45.413390Z",
     "iopub.status.idle": "2021-02-12T07:59:45.434960Z",
     "shell.execute_reply": "2021-02-12T07:59:45.435503Z"
    },
    "papermill": {
     "duration": 0.071611,
     "end_time": "2021-02-12T07:59:45.435691",
     "exception": false,
     "start_time": "2021-02-12T07:59:45.364080",
     "status": "completed"
    },
    "tags": []
   },
   "outputs": [
    {
     "data": {
      "text/html": [
       "<div>\n",
       "<style scoped>\n",
       "    .dataframe tbody tr th:only-of-type {\n",
       "        vertical-align: middle;\n",
       "    }\n",
       "\n",
       "    .dataframe tbody tr th {\n",
       "        vertical-align: top;\n",
       "    }\n",
       "\n",
       "    .dataframe thead th {\n",
       "        text-align: right;\n",
       "    }\n",
       "</style>\n",
       "<table border=\"1\" class=\"dataframe\">\n",
       "  <thead>\n",
       "    <tr style=\"text-align: right;\">\n",
       "      <th></th>\n",
       "      <th>id</th>\n",
       "      <th>city</th>\n",
       "      <th>date</th>\n",
       "      <th>player_of_match</th>\n",
       "      <th>venue</th>\n",
       "      <th>neutral_venue</th>\n",
       "      <th>team1</th>\n",
       "      <th>team2</th>\n",
       "      <th>toss_winner</th>\n",
       "      <th>toss_decision</th>\n",
       "      <th>winner</th>\n",
       "      <th>result</th>\n",
       "      <th>result_margin</th>\n",
       "      <th>eliminator</th>\n",
       "      <th>method</th>\n",
       "      <th>umpire1</th>\n",
       "      <th>umpire2</th>\n",
       "    </tr>\n",
       "  </thead>\n",
       "  <tbody>\n",
       "    <tr>\n",
       "      <th>241</th>\n",
       "      <td>501265</td>\n",
       "      <td>Delhi</td>\n",
       "      <td>2011-05-21</td>\n",
       "      <td>NaN</td>\n",
       "      <td>Feroz Shah Kotla</td>\n",
       "      <td>0</td>\n",
       "      <td>DD</td>\n",
       "      <td>PWI</td>\n",
       "      <td>DD</td>\n",
       "      <td>bat</td>\n",
       "      <td>NaN</td>\n",
       "      <td>NaN</td>\n",
       "      <td>NaN</td>\n",
       "      <td>NaN</td>\n",
       "      <td>0</td>\n",
       "      <td>SS Hazare</td>\n",
       "      <td>RJ Tucker</td>\n",
       "    </tr>\n",
       "    <tr>\n",
       "      <th>486</th>\n",
       "      <td>829763</td>\n",
       "      <td>Bangalore</td>\n",
       "      <td>2015-04-29</td>\n",
       "      <td>NaN</td>\n",
       "      <td>M Chinnaswamy Stadium</td>\n",
       "      <td>0</td>\n",
       "      <td>RCB</td>\n",
       "      <td>RR</td>\n",
       "      <td>RR</td>\n",
       "      <td>field</td>\n",
       "      <td>NaN</td>\n",
       "      <td>NaN</td>\n",
       "      <td>NaN</td>\n",
       "      <td>NaN</td>\n",
       "      <td>0</td>\n",
       "      <td>JD Cloete</td>\n",
       "      <td>PG Pathak</td>\n",
       "    </tr>\n",
       "    <tr>\n",
       "      <th>511</th>\n",
       "      <td>829813</td>\n",
       "      <td>Bangalore</td>\n",
       "      <td>2015-05-17</td>\n",
       "      <td>NaN</td>\n",
       "      <td>M Chinnaswamy Stadium</td>\n",
       "      <td>0</td>\n",
       "      <td>RCB</td>\n",
       "      <td>DD</td>\n",
       "      <td>RCB</td>\n",
       "      <td>field</td>\n",
       "      <td>NaN</td>\n",
       "      <td>NaN</td>\n",
       "      <td>NaN</td>\n",
       "      <td>NaN</td>\n",
       "      <td>0</td>\n",
       "      <td>HDPK Dharmasena</td>\n",
       "      <td>K Srinivasan</td>\n",
       "    </tr>\n",
       "    <tr>\n",
       "      <th>744</th>\n",
       "      <td>1178424</td>\n",
       "      <td>Bengaluru</td>\n",
       "      <td>2019-04-30</td>\n",
       "      <td>NaN</td>\n",
       "      <td>M.Chinnaswamy Stadium</td>\n",
       "      <td>0</td>\n",
       "      <td>RCB</td>\n",
       "      <td>RR</td>\n",
       "      <td>RR</td>\n",
       "      <td>field</td>\n",
       "      <td>NaN</td>\n",
       "      <td>NaN</td>\n",
       "      <td>NaN</td>\n",
       "      <td>NaN</td>\n",
       "      <td>0</td>\n",
       "      <td>UV Gandhe</td>\n",
       "      <td>NJ Llong</td>\n",
       "    </tr>\n",
       "  </tbody>\n",
       "</table>\n",
       "</div>"
      ],
      "text/plain": [
       "          id       city        date player_of_match                  venue  \\\n",
       "241   501265      Delhi  2011-05-21             NaN       Feroz Shah Kotla   \n",
       "486   829763  Bangalore  2015-04-29             NaN  M Chinnaswamy Stadium   \n",
       "511   829813  Bangalore  2015-05-17             NaN  M Chinnaswamy Stadium   \n",
       "744  1178424  Bengaluru  2019-04-30             NaN  M.Chinnaswamy Stadium   \n",
       "\n",
       "     neutral_venue team1 team2 toss_winner toss_decision winner result  \\\n",
       "241              0    DD   PWI          DD           bat    NaN    NaN   \n",
       "486              0   RCB    RR          RR         field    NaN    NaN   \n",
       "511              0   RCB    DD         RCB         field    NaN    NaN   \n",
       "744              0   RCB    RR          RR         field    NaN    NaN   \n",
       "\n",
       "     result_margin eliminator method          umpire1       umpire2  \n",
       "241            NaN        NaN      0        SS Hazare     RJ Tucker  \n",
       "486            NaN        NaN      0        JD Cloete     PG Pathak  \n",
       "511            NaN        NaN      0  HDPK Dharmasena  K Srinivasan  \n",
       "744            NaN        NaN      0        UV Gandhe      NJ Llong  "
      ]
     },
     "execution_count": 8,
     "metadata": {},
     "output_type": "execute_result"
    }
   ],
   "source": [
    "matches[matches.result.isnull()]"
   ]
  },
  {
   "cell_type": "markdown",
   "metadata": {
    "papermill": {
     "duration": 0.046606,
     "end_time": "2021-02-12T07:59:45.529033",
     "exception": false,
     "start_time": "2021-02-12T07:59:45.482427",
     "status": "completed"
    },
    "tags": []
   },
   "source": [
    "### Removing Not Result Matches"
   ]
  },
  {
   "cell_type": "code",
   "execution_count": 9,
   "metadata": {
    "execution": {
     "iopub.execute_input": "2021-02-12T07:59:45.627195Z",
     "iopub.status.busy": "2021-02-12T07:59:45.626183Z",
     "iopub.status.idle": "2021-02-12T07:59:45.631571Z",
     "shell.execute_reply": "2021-02-12T07:59:45.632178Z"
    },
    "papermill": {
     "duration": 0.056081,
     "end_time": "2021-02-12T07:59:45.632347",
     "exception": false,
     "start_time": "2021-02-12T07:59:45.576266",
     "status": "completed"
    },
    "tags": []
   },
   "outputs": [],
   "source": [
    "matches = matches[matches['result'].notnull()]\n"
   ]
  },
  {
   "cell_type": "markdown",
   "metadata": {
    "papermill": {
     "duration": 0.047161,
     "end_time": "2021-02-12T07:59:45.728256",
     "exception": false,
     "start_time": "2021-02-12T07:59:45.681095",
     "status": "completed"
    },
    "tags": []
   },
   "source": [
    "### Fixing Result Margin of Tie Matches"
   ]
  },
  {
   "cell_type": "code",
   "execution_count": 10,
   "metadata": {
    "execution": {
     "iopub.execute_input": "2021-02-12T07:59:45.827978Z",
     "iopub.status.busy": "2021-02-12T07:59:45.826989Z",
     "iopub.status.idle": "2021-02-12T07:59:45.834100Z",
     "shell.execute_reply": "2021-02-12T07:59:45.833564Z"
    },
    "papermill": {
     "duration": 0.058092,
     "end_time": "2021-02-12T07:59:45.834248",
     "exception": false,
     "start_time": "2021-02-12T07:59:45.776156",
     "status": "completed"
    },
    "tags": []
   },
   "outputs": [],
   "source": [
    "matches.loc[matches.result=='tie', 'result_margin']=0"
   ]
  },
  {
   "cell_type": "markdown",
   "metadata": {
    "papermill": {
     "duration": 0.048293,
     "end_time": "2021-02-12T07:59:45.929892",
     "exception": false,
     "start_time": "2021-02-12T07:59:45.881599",
     "status": "completed"
    },
    "tags": []
   },
   "source": [
    "### Fixing Missing Values of City according to their Venues"
   ]
  },
  {
   "cell_type": "code",
   "execution_count": 11,
   "metadata": {
    "execution": {
     "iopub.execute_input": "2021-02-12T07:59:46.034486Z",
     "iopub.status.busy": "2021-02-12T07:59:46.033824Z",
     "iopub.status.idle": "2021-02-12T07:59:46.036813Z",
     "shell.execute_reply": "2021-02-12T07:59:46.037308Z"
    },
    "papermill": {
     "duration": 0.059714,
     "end_time": "2021-02-12T07:59:46.037493",
     "exception": false,
     "start_time": "2021-02-12T07:59:45.977779",
     "status": "completed"
    },
    "tags": []
   },
   "outputs": [
    {
     "data": {
      "text/plain": [
       "399                Sharjah Cricket Stadium\n",
       "402    Dubai International Cricket Stadium\n",
       "403    Dubai International Cricket Stadium\n",
       "404                Sharjah Cricket Stadium\n",
       "406                Sharjah Cricket Stadium\n",
       "407    Dubai International Cricket Stadium\n",
       "408                Sharjah Cricket Stadium\n",
       "409    Dubai International Cricket Stadium\n",
       "410    Dubai International Cricket Stadium\n",
       "413                Sharjah Cricket Stadium\n",
       "414                Sharjah Cricket Stadium\n",
       "415    Dubai International Cricket Stadium\n",
       "417    Dubai International Cricket Stadium\n",
       "Name: venue, dtype: object"
      ]
     },
     "execution_count": 11,
     "metadata": {},
     "output_type": "execute_result"
    }
   ],
   "source": [
    "matches.venue[matches.city.isnull()]"
   ]
  },
  {
   "cell_type": "code",
   "execution_count": 12,
   "metadata": {
    "execution": {
     "iopub.execute_input": "2021-02-12T07:59:46.138825Z",
     "iopub.status.busy": "2021-02-12T07:59:46.138141Z",
     "iopub.status.idle": "2021-02-12T07:59:46.143854Z",
     "shell.execute_reply": "2021-02-12T07:59:46.144352Z"
    },
    "papermill": {
     "duration": 0.058471,
     "end_time": "2021-02-12T07:59:46.144522",
     "exception": false,
     "start_time": "2021-02-12T07:59:46.086051",
     "status": "completed"
    },
    "tags": []
   },
   "outputs": [
    {
     "data": {
      "text/plain": [
       "array([nan, 'Dubai'], dtype=object)"
      ]
     },
     "execution_count": 12,
     "metadata": {},
     "output_type": "execute_result"
    }
   ],
   "source": [
    "matches.city[matches.venue =='Dubai International Cricket Stadium'].unique()"
   ]
  },
  {
   "cell_type": "code",
   "execution_count": 13,
   "metadata": {
    "execution": {
     "iopub.execute_input": "2021-02-12T07:59:46.245372Z",
     "iopub.status.busy": "2021-02-12T07:59:46.244360Z",
     "iopub.status.idle": "2021-02-12T07:59:46.250618Z",
     "shell.execute_reply": "2021-02-12T07:59:46.251128Z"
    },
    "papermill": {
     "duration": 0.057992,
     "end_time": "2021-02-12T07:59:46.251293",
     "exception": false,
     "start_time": "2021-02-12T07:59:46.193301",
     "status": "completed"
    },
    "tags": []
   },
   "outputs": [
    {
     "data": {
      "text/plain": [
       "array([nan, 'Sharjah'], dtype=object)"
      ]
     },
     "execution_count": 13,
     "metadata": {},
     "output_type": "execute_result"
    }
   ],
   "source": [
    "matches.city[matches.venue == 'Sharjah Cricket Stadium'].unique()"
   ]
  },
  {
   "cell_type": "code",
   "execution_count": 14,
   "metadata": {
    "execution": {
     "iopub.execute_input": "2021-02-12T07:59:46.352301Z",
     "iopub.status.busy": "2021-02-12T07:59:46.351332Z",
     "iopub.status.idle": "2021-02-12T07:59:46.358254Z",
     "shell.execute_reply": "2021-02-12T07:59:46.357745Z"
    },
    "papermill": {
     "duration": 0.058633,
     "end_time": "2021-02-12T07:59:46.358393",
     "exception": false,
     "start_time": "2021-02-12T07:59:46.299760",
     "status": "completed"
    },
    "tags": []
   },
   "outputs": [],
   "source": [
    "def venue_func(x):\n",
    "    if x == 'Dubai International Cricket Stadium':\n",
    "        return 'Dubai'\n",
    "    if x == 'Sharjah Cricket Stadium':\n",
    "        return 'Sharjah'\n",
    "    else :\n",
    "        return x\n",
    "    \n",
    "matches.city = matches.venue.apply(venue_func)"
   ]
  },
  {
   "cell_type": "code",
   "execution_count": 15,
   "metadata": {
    "execution": {
     "iopub.execute_input": "2021-02-12T07:59:46.464899Z",
     "iopub.status.busy": "2021-02-12T07:59:46.464181Z",
     "iopub.status.idle": "2021-02-12T07:59:46.467202Z",
     "shell.execute_reply": "2021-02-12T07:59:46.467720Z"
    },
    "papermill": {
     "duration": 0.060895,
     "end_time": "2021-02-12T07:59:46.467895",
     "exception": false,
     "start_time": "2021-02-12T07:59:46.407000",
     "status": "completed"
    },
    "tags": []
   },
   "outputs": [
    {
     "data": {
      "text/plain": [
       "id                 0\n",
       "city               0\n",
       "date               0\n",
       "player_of_match    0\n",
       "venue              0\n",
       "neutral_venue      0\n",
       "team1              0\n",
       "team2              0\n",
       "toss_winner        0\n",
       "toss_decision      0\n",
       "winner             0\n",
       "result             0\n",
       "result_margin      0\n",
       "eliminator         0\n",
       "method             0\n",
       "umpire1            0\n",
       "umpire2            0\n",
       "dtype: int64"
      ]
     },
     "execution_count": 15,
     "metadata": {},
     "output_type": "execute_result"
    }
   ],
   "source": [
    "matches.isnull().sum()"
   ]
  },
  {
   "cell_type": "markdown",
   "metadata": {
    "papermill": {
     "duration": 0.049045,
     "end_time": "2021-02-12T07:59:46.566091",
     "exception": false,
     "start_time": "2021-02-12T07:59:46.517046",
     "status": "completed"
    },
    "tags": []
   },
   "source": [
    "## Number of Matches at Venues"
   ]
  },
  {
   "cell_type": "code",
   "execution_count": 16,
   "metadata": {
    "execution": {
     "iopub.execute_input": "2021-02-12T07:59:46.669715Z",
     "iopub.status.busy": "2021-02-12T07:59:46.669064Z",
     "iopub.status.idle": "2021-02-12T07:59:47.089280Z",
     "shell.execute_reply": "2021-02-12T07:59:47.088781Z"
    },
    "papermill": {
     "duration": 0.47369,
     "end_time": "2021-02-12T07:59:47.089440",
     "exception": false,
     "start_time": "2021-02-12T07:59:46.615750",
     "status": "completed"
    },
    "tags": []
   },
   "outputs": [
    {
     "data": {
      "text/plain": [
       "<AxesSubplot:>"
      ]
     },
     "execution_count": 16,
     "metadata": {},
     "output_type": "execute_result"
    },
    {
     "data": {
      "image/png": "[encoded data removed]",
      "text/plain": [
       "<Figure size 864x720 with 1 Axes>"
      ]
     },
     "metadata": {},
     "output_type": "display_data"
    }
   ],
   "source": [
    "matches.venue.value_counts()[:15].plot(kind = 'barh')\n"
   ]
  },
  {
   "cell_type": "markdown",
   "metadata": {
    "papermill": {
     "duration": 0.051515,
     "end_time": "2021-02-12T07:59:47.193229",
     "exception": false,
     "start_time": "2021-02-12T07:59:47.141714",
     "status": "completed"
    },
    "tags": []
   },
   "source": [
    "## Most Number of D/L Matches at different venues"
   ]
  },
  {
   "cell_type": "code",
   "execution_count": 17,
   "metadata": {
    "execution": {
     "iopub.execute_input": "2021-02-12T07:59:47.310444Z",
     "iopub.status.busy": "2021-02-12T07:59:47.309753Z",
     "iopub.status.idle": "2021-02-12T07:59:47.313055Z",
     "shell.execute_reply": "2021-02-12T07:59:47.313639Z"
    },
    "papermill": {
     "duration": 0.067561,
     "end_time": "2021-02-12T07:59:47.313827",
     "exception": false,
     "start_time": "2021-02-12T07:59:47.246266",
     "status": "completed"
    },
    "tags": []
   },
   "outputs": [
    {
     "data": {
      "text/plain": [
       "venue                                              \n",
       "Eden Gardens                                           4\n",
       "Feroz Shah Kotla                                       3\n",
       "M Chinnaswamy Stadium                                  3\n",
       "Dr. Y.S. Rajasekhara Reddy ACA-VDCA Cricket Stadium    2\n",
       "Rajiv Gandhi International Stadium, Uppal              2\n",
       "Kingsmead                                              1\n",
       "Nehru Stadium                                          1\n",
       "Newlands                                               1\n",
       "Sawai Mansingh Stadium                                 1\n",
       "SuperSport Park                                        1\n",
       "dtype: int64"
      ]
     },
     "execution_count": 17,
     "metadata": {},
     "output_type": "execute_result"
    }
   ],
   "source": [
    "matches.loc[matches.method == 'D/L',['venue']].value_counts()"
   ]
  },
  {
   "cell_type": "markdown",
   "metadata": {
    "papermill": {
     "duration": 0.051683,
     "end_time": "2021-02-12T07:59:47.416976",
     "exception": false,
     "start_time": "2021-02-12T07:59:47.365293",
     "status": "completed"
    },
    "tags": []
   },
   "source": [
    "## Toss Desicions"
   ]
  },
  {
   "cell_type": "code",
   "execution_count": 18,
   "metadata": {
    "execution": {
     "iopub.execute_input": "2021-02-12T07:59:47.523965Z",
     "iopub.status.busy": "2021-02-12T07:59:47.523269Z",
     "iopub.status.idle": "2021-02-12T07:59:47.658022Z",
     "shell.execute_reply": "2021-02-12T07:59:47.657477Z"
    },
    "papermill": {
     "duration": 0.189315,
     "end_time": "2021-02-12T07:59:47.658177",
     "exception": false,
     "start_time": "2021-02-12T07:59:47.468862",
     "status": "completed"
    },
    "tags": []
   },
   "outputs": [
    {
     "data": {
      "text/plain": [
       "<AxesSubplot:ylabel='toss_decision'>"
      ]
     },
     "execution_count": 18,
     "metadata": {},
     "output_type": "execute_result"
    },
    {
     "data": {
      "image/png": "[encoded data removed]",
      "text/plain": [
       "<Figure size 864x720 with 1 Axes>"
      ]
     },
     "metadata": {},
     "output_type": "display_data"
    }
   ],
   "source": [
    "matches.toss_decision.value_counts().plot(kind = 'pie')"
   ]
  },
  {
   "cell_type": "markdown",
   "metadata": {
    "papermill": {
     "duration": 0.066735,
     "end_time": "2021-02-12T07:59:47.786540",
     "exception": false,
     "start_time": "2021-02-12T07:59:47.719805",
     "status": "completed"
    },
    "tags": []
   },
   "source": [
    "## Total Wins/Teams"
   ]
  },
  {
   "cell_type": "code",
   "execution_count": 19,
   "metadata": {
    "execution": {
     "iopub.execute_input": "2021-02-12T07:59:47.930181Z",
     "iopub.status.busy": "2021-02-12T07:59:47.929044Z",
     "iopub.status.idle": "2021-02-12T07:59:48.359594Z",
     "shell.execute_reply": "2021-02-12T07:59:48.360552Z"
    },
    "papermill": {
     "duration": 0.507843,
     "end_time": "2021-02-12T07:59:48.360828",
     "exception": false,
     "start_time": "2021-02-12T07:59:47.852985",
     "status": "completed"
    },
    "tags": []
   },
   "outputs": [
    {
     "data": {
      "text/plain": [
       "<AxesSubplot:ylabel='toss_winner'>"
      ]
     },
     "execution_count": 19,
     "metadata": {},
     "output_type": "execute_result"
    },
    {
     "data": {
      "image/png": "[encoded data removed]",
      "text/plain": [
       "<Figure size 864x720 with 2 Axes>"
      ]
     },
     "metadata": {},
     "output_type": "display_data"
    }
   ],
   "source": [
    "\n",
    "plt.subplot(1,2,1)\n",
    "matches.toss_winner.value_counts().plot(kind = 'bar')\n",
    "plt.subplot(1,2,2)\n",
    "matches.toss_winner.value_counts().plot(kind = 'pie')"
   ]
  },
  {
   "cell_type": "markdown",
   "metadata": {
    "papermill": {
     "duration": 0.059197,
     "end_time": "2021-02-12T07:59:48.484715",
     "exception": false,
     "start_time": "2021-02-12T07:59:48.425518",
     "status": "completed"
    },
    "tags": []
   },
   "source": [
    "## Total Matches per Year"
   ]
  },
  {
   "cell_type": "code",
   "execution_count": 20,
   "metadata": {
    "execution": {
     "iopub.execute_input": "2021-02-12T07:59:48.605288Z",
     "iopub.status.busy": "2021-02-12T07:59:48.604328Z",
     "iopub.status.idle": "2021-02-12T07:59:48.866178Z",
     "shell.execute_reply": "2021-02-12T07:59:48.866798Z"
    },
    "papermill": {
     "duration": 0.322116,
     "end_time": "2021-02-12T07:59:48.866996",
     "exception": false,
     "start_time": "2021-02-12T07:59:48.544880",
     "status": "completed"
    },
    "tags": []
   },
   "outputs": [
    {
     "data": {
      "text/plain": [
       "<AxesSubplot:>"
      ]
     },
     "execution_count": 20,
     "metadata": {},
     "output_type": "execute_result"
    },
    {
     "data": {
      "image/png": "[encoded data removed]",
      "text/plain": [
       "<Figure size 864x720 with 1 Axes>"
      ]
     },
     "metadata": {},
     "output_type": "display_data"
    }
   ],
   "source": [
    "matches['season'] = matches['date'].str[:4].astype(int)\n",
    "matches.season.value_counts().plot(kind = 'bar')"
   ]
  },
  {
   "cell_type": "markdown",
   "metadata": {
    "papermill": {
     "duration": 0.057183,
     "end_time": "2021-02-12T07:59:48.981432",
     "exception": false,
     "start_time": "2021-02-12T07:59:48.924249",
     "status": "completed"
    },
    "tags": []
   },
   "source": [
    "## Matches win by every Team"
   ]
  },
  {
   "cell_type": "code",
   "execution_count": 21,
   "metadata": {
    "execution": {
     "iopub.execute_input": "2021-02-12T07:59:49.128607Z",
     "iopub.status.busy": "2021-02-12T07:59:49.127598Z",
     "iopub.status.idle": "2021-02-12T07:59:49.367425Z",
     "shell.execute_reply": "2021-02-12T07:59:49.366697Z"
    },
    "papermill": {
     "duration": 0.329118,
     "end_time": "2021-02-12T07:59:49.367570",
     "exception": false,
     "start_time": "2021-02-12T07:59:49.038452",
     "status": "completed"
    },
    "tags": []
   },
   "outputs": [
    {
     "data": {
      "text/plain": [
       "<AxesSubplot:>"
      ]
     },
     "execution_count": 21,
     "metadata": {},
     "output_type": "execute_result"
    },
    {
     "data": {
      "image/png": "[encoded data removed]",
      "text/plain": [
       "<Figure size 864x720 with 1 Axes>"
      ]
     },
     "metadata": {},
     "output_type": "display_data"
    }
   ],
   "source": [
    "total_win = matches.winner.value_counts()\n",
    "total_win.plot(kind = 'bar')"
   ]
  },
  {
   "cell_type": "markdown",
   "metadata": {
    "papermill": {
     "duration": 0.058053,
     "end_time": "2021-02-12T07:59:49.484044",
     "exception": false,
     "start_time": "2021-02-12T07:59:49.425991",
     "status": "completed"
    },
    "tags": []
   },
   "source": [
    "## Total Matches Played by every Team"
   ]
  },
  {
   "cell_type": "code",
   "execution_count": 22,
   "metadata": {
    "execution": {
     "iopub.execute_input": "2021-02-12T07:59:49.626474Z",
     "iopub.status.busy": "2021-02-12T07:59:49.612450Z",
     "iopub.status.idle": "2021-02-12T07:59:49.882563Z",
     "shell.execute_reply": "2021-02-12T07:59:49.883078Z"
    },
    "papermill": {
     "duration": 0.340286,
     "end_time": "2021-02-12T07:59:49.883291",
     "exception": false,
     "start_time": "2021-02-12T07:59:49.543005",
     "status": "completed"
    },
    "tags": []
   },
   "outputs": [
    {
     "data": {
      "text/plain": [
       "<AxesSubplot:>"
      ]
     },
     "execution_count": 22,
     "metadata": {},
     "output_type": "execute_result"
    },
    {
     "data": {
      "image/png": "[encoded data removed]",
      "text/plain": [
       "<Figure size 864x720 with 1 Axes>"
      ]
     },
     "metadata": {},
     "output_type": "display_data"
    }
   ],
   "source": [
    "total_matches = (matches.team1.value_counts()+ matches.team2.value_counts())\n",
    "total_matches.plot(kind = 'bar')"
   ]
  },
  {
   "cell_type": "markdown",
   "metadata": {
    "papermill": {
     "duration": 0.059467,
     "end_time": "2021-02-12T07:59:50.002647",
     "exception": false,
     "start_time": "2021-02-12T07:59:49.943180",
     "status": "completed"
    },
    "tags": []
   },
   "source": [
    "## Win Percentage of every team"
   ]
  },
  {
   "cell_type": "code",
   "execution_count": 23,
   "metadata": {
    "execution": {
     "iopub.execute_input": "2021-02-12T07:59:50.132032Z",
     "iopub.status.busy": "2021-02-12T07:59:50.131301Z",
     "iopub.status.idle": "2021-02-12T07:59:50.389160Z",
     "shell.execute_reply": "2021-02-12T07:59:50.389651Z"
    },
    "papermill": {
     "duration": 0.328061,
     "end_time": "2021-02-12T07:59:50.389881",
     "exception": false,
     "start_time": "2021-02-12T07:59:50.061820",
     "status": "completed"
    },
    "tags": []
   },
   "outputs": [
    {
     "data": {
      "text/plain": [
       "<AxesSubplot:>"
      ]
     },
     "execution_count": 23,
     "metadata": {},
     "output_type": "execute_result"
    },
    {
     "data": {
      "image/png": "[encoded data removed]",
      "text/plain": [
       "<Figure size 864x720 with 1 Axes>"
      ]
     },
     "metadata": {},
     "output_type": "display_data"
    }
   ],
   "source": [
    "win_percentage = total_win/total_matches*100\n",
    "win_percentage.plot(kind = 'bar')"
   ]
  },
  {
   "cell_type": "markdown",
   "metadata": {
    "papermill": {
     "duration": 0.06029,
     "end_time": "2021-02-12T07:59:50.512840",
     "exception": false,
     "start_time": "2021-02-12T07:59:50.452550",
     "status": "completed"
    },
    "tags": []
   },
   "source": [
    "## Most Eliminator Matches Wins per Teams"
   ]
  },
  {
   "cell_type": "code",
   "execution_count": 24,
   "metadata": {
    "execution": {
     "iopub.execute_input": "2021-02-12T07:59:50.639634Z",
     "iopub.status.busy": "2021-02-12T07:59:50.639007Z",
     "iopub.status.idle": "2021-02-12T07:59:50.772421Z",
     "shell.execute_reply": "2021-02-12T07:59:50.772908Z"
    },
    "papermill": {
     "duration": 0.199202,
     "end_time": "2021-02-12T07:59:50.773087",
     "exception": false,
     "start_time": "2021-02-12T07:59:50.573885",
     "status": "completed"
    },
    "tags": []
   },
   "outputs": [
    {
     "data": {
      "text/plain": [
       "<AxesSubplot:ylabel='winner'>"
      ]
     },
     "execution_count": 24,
     "metadata": {},
     "output_type": "execute_result"
    },
    {
     "data": {
      "image/png": "[encoded data removed]",
      "text/plain": [
       "<Figure size 864x720 with 1 Axes>"
      ]
     },
     "metadata": {},
     "output_type": "display_data"
    }
   ],
   "source": [
    "matches.winner[matches.eliminator =='Y'].value_counts().plot(kind = 'pie')"
   ]
  },
  {
   "cell_type": "markdown",
   "metadata": {
    "papermill": {
     "duration": 0.061953,
     "end_time": "2021-02-12T07:59:50.897996",
     "exception": false,
     "start_time": "2021-02-12T07:59:50.836043",
     "status": "completed"
    },
    "tags": []
   },
   "source": [
    "## Most Player of Match Award Winner"
   ]
  },
  {
   "cell_type": "code",
   "execution_count": 25,
   "metadata": {
    "execution": {
     "iopub.execute_input": "2021-02-12T07:59:51.027952Z",
     "iopub.status.busy": "2021-02-12T07:59:51.027235Z",
     "iopub.status.idle": "2021-02-12T07:59:51.250585Z",
     "shell.execute_reply": "2021-02-12T07:59:51.251167Z"
    },
    "papermill": {
     "duration": 0.290259,
     "end_time": "2021-02-12T07:59:51.251369",
     "exception": false,
     "start_time": "2021-02-12T07:59:50.961110",
     "status": "completed"
    },
    "tags": []
   },
   "outputs": [
    {
     "data": {
      "text/plain": [
       "<AxesSubplot:>"
      ]
     },
     "execution_count": 25,
     "metadata": {},
     "output_type": "execute_result"
    },
    {
     "data": {
      "image/png": "[encoded data removed]",
      "text/plain": [
       "<Figure size 864x720 with 1 Axes>"
      ]
     },
     "metadata": {},
     "output_type": "display_data"
    }
   ],
   "source": [
    "matches.player_of_match.value_counts()[:10].plot(kind = 'bar')"
   ]
  },
  {
   "cell_type": "markdown",
   "metadata": {
    "papermill": {
     "duration": 0.063976,
     "end_time": "2021-02-12T07:59:51.379946",
     "exception": false,
     "start_time": "2021-02-12T07:59:51.315970",
     "status": "completed"
    },
    "tags": []
   },
   "source": [
    "## Ball-by-Ball Analysis"
   ]
  },
  {
   "cell_type": "code",
   "execution_count": 26,
   "metadata": {
    "execution": {
     "iopub.execute_input": "2021-02-12T07:59:51.512330Z",
     "iopub.status.busy": "2021-02-12T07:59:51.511535Z",
     "iopub.status.idle": "2021-02-12T07:59:51.530747Z",
     "shell.execute_reply": "2021-02-12T07:59:51.531258Z"
    },
    "papermill": {
     "duration": 0.087125,
     "end_time": "2021-02-12T07:59:51.531435",
     "exception": false,
     "start_time": "2021-02-12T07:59:51.444310",
     "status": "completed"
    },
    "tags": []
   },
   "outputs": [
    {
     "data": {
      "text/html": [
       "<div>\n",
       "<style scoped>\n",
       "    .dataframe tbody tr th:only-of-type {\n",
       "        vertical-align: middle;\n",
       "    }\n",
       "\n",
       "    .dataframe tbody tr th {\n",
       "        vertical-align: top;\n",
       "    }\n",
       "\n",
       "    .dataframe thead th {\n",
       "        text-align: right;\n",
       "    }\n",
       "</style>\n",
       "<table border=\"1\" class=\"dataframe\">\n",
       "  <thead>\n",
       "    <tr style=\"text-align: right;\">\n",
       "      <th></th>\n",
       "      <th>id</th>\n",
       "      <th>inning</th>\n",
       "      <th>over</th>\n",
       "      <th>ball</th>\n",
       "      <th>batsman</th>\n",
       "      <th>non_striker</th>\n",
       "      <th>bowler</th>\n",
       "      <th>batsman_runs</th>\n",
       "      <th>extra_runs</th>\n",
       "      <th>total_runs</th>\n",
       "      <th>non_boundary</th>\n",
       "      <th>is_wicket</th>\n",
       "      <th>dismissal_kind</th>\n",
       "      <th>player_dismissed</th>\n",
       "      <th>fielder</th>\n",
       "      <th>extras_type</th>\n",
       "      <th>batting_team</th>\n",
       "      <th>bowling_team</th>\n",
       "    </tr>\n",
       "  </thead>\n",
       "  <tbody>\n",
       "    <tr>\n",
       "      <th>0</th>\n",
       "      <td>335982</td>\n",
       "      <td>1</td>\n",
       "      <td>6</td>\n",
       "      <td>5</td>\n",
       "      <td>RT Ponting</td>\n",
       "      <td>BB McCullum</td>\n",
       "      <td>AA Noffke</td>\n",
       "      <td>1</td>\n",
       "      <td>0</td>\n",
       "      <td>1</td>\n",
       "      <td>0</td>\n",
       "      <td>0</td>\n",
       "      <td>NaN</td>\n",
       "      <td>NaN</td>\n",
       "      <td>NaN</td>\n",
       "      <td>NaN</td>\n",
       "      <td>Kolkata Knight Riders</td>\n",
       "      <td>Royal Challengers Bangalore</td>\n",
       "    </tr>\n",
       "    <tr>\n",
       "      <th>1</th>\n",
       "      <td>335982</td>\n",
       "      <td>1</td>\n",
       "      <td>6</td>\n",
       "      <td>6</td>\n",
       "      <td>BB McCullum</td>\n",
       "      <td>RT Ponting</td>\n",
       "      <td>AA Noffke</td>\n",
       "      <td>1</td>\n",
       "      <td>0</td>\n",
       "      <td>1</td>\n",
       "      <td>0</td>\n",
       "      <td>0</td>\n",
       "      <td>NaN</td>\n",
       "      <td>NaN</td>\n",
       "      <td>NaN</td>\n",
       "      <td>NaN</td>\n",
       "      <td>Kolkata Knight Riders</td>\n",
       "      <td>Royal Challengers Bangalore</td>\n",
       "    </tr>\n",
       "    <tr>\n",
       "      <th>2</th>\n",
       "      <td>335982</td>\n",
       "      <td>1</td>\n",
       "      <td>7</td>\n",
       "      <td>1</td>\n",
       "      <td>BB McCullum</td>\n",
       "      <td>RT Ponting</td>\n",
       "      <td>Z Khan</td>\n",
       "      <td>0</td>\n",
       "      <td>0</td>\n",
       "      <td>0</td>\n",
       "      <td>0</td>\n",
       "      <td>0</td>\n",
       "      <td>NaN</td>\n",
       "      <td>NaN</td>\n",
       "      <td>NaN</td>\n",
       "      <td>NaN</td>\n",
       "      <td>Kolkata Knight Riders</td>\n",
       "      <td>Royal Challengers Bangalore</td>\n",
       "    </tr>\n",
       "    <tr>\n",
       "      <th>3</th>\n",
       "      <td>335982</td>\n",
       "      <td>1</td>\n",
       "      <td>7</td>\n",
       "      <td>2</td>\n",
       "      <td>BB McCullum</td>\n",
       "      <td>RT Ponting</td>\n",
       "      <td>Z Khan</td>\n",
       "      <td>1</td>\n",
       "      <td>0</td>\n",
       "      <td>1</td>\n",
       "      <td>0</td>\n",
       "      <td>0</td>\n",
       "      <td>NaN</td>\n",
       "      <td>NaN</td>\n",
       "      <td>NaN</td>\n",
       "      <td>NaN</td>\n",
       "      <td>Kolkata Knight Riders</td>\n",
       "      <td>Royal Challengers Bangalore</td>\n",
       "    </tr>\n",
       "    <tr>\n",
       "      <th>4</th>\n",
       "      <td>335982</td>\n",
       "      <td>1</td>\n",
       "      <td>7</td>\n",
       "      <td>3</td>\n",
       "      <td>RT Ponting</td>\n",
       "      <td>BB McCullum</td>\n",
       "      <td>Z Khan</td>\n",
       "      <td>1</td>\n",
       "      <td>0</td>\n",
       "      <td>1</td>\n",
       "      <td>0</td>\n",
       "      <td>0</td>\n",
       "      <td>NaN</td>\n",
       "      <td>NaN</td>\n",
       "      <td>NaN</td>\n",
       "      <td>NaN</td>\n",
       "      <td>Kolkata Knight Riders</td>\n",
       "      <td>Royal Challengers Bangalore</td>\n",
       "    </tr>\n",
       "  </tbody>\n",
       "</table>\n",
       "</div>"
      ],
      "text/plain": [
       "       id  inning  over  ball      batsman  non_striker     bowler  \\\n",
       "0  335982       1     6     5   RT Ponting  BB McCullum  AA Noffke   \n",
       "1  335982       1     6     6  BB McCullum   RT Ponting  AA Noffke   \n",
       "2  335982       1     7     1  BB McCullum   RT Ponting     Z Khan   \n",
       "3  335982       1     7     2  BB McCullum   RT Ponting     Z Khan   \n",
       "4  335982       1     7     3   RT Ponting  BB McCullum     Z Khan   \n",
       "\n",
       "   batsman_runs  extra_runs  total_runs  non_boundary  is_wicket  \\\n",
       "0             1           0           1             0          0   \n",
       "1             1           0           1             0          0   \n",
       "2             0           0           0             0          0   \n",
       "3             1           0           1             0          0   \n",
       "4             1           0           1             0          0   \n",
       "\n",
       "  dismissal_kind player_dismissed fielder extras_type           batting_team  \\\n",
       "0            NaN              NaN     NaN         NaN  Kolkata Knight Riders   \n",
       "1            NaN              NaN     NaN         NaN  Kolkata Knight Riders   \n",
       "2            NaN              NaN     NaN         NaN  Kolkata Knight Riders   \n",
       "3            NaN              NaN     NaN         NaN  Kolkata Knight Riders   \n",
       "4            NaN              NaN     NaN         NaN  Kolkata Knight Riders   \n",
       "\n",
       "                  bowling_team  \n",
       "0  Royal Challengers Bangalore  \n",
       "1  Royal Challengers Bangalore  \n",
       "2  Royal Challengers Bangalore  \n",
       "3  Royal Challengers Bangalore  \n",
       "4  Royal Challengers Bangalore  "
      ]
     },
     "execution_count": 26,
     "metadata": {},
     "output_type": "execute_result"
    }
   ],
   "source": [
    "deliveries.head()"
   ]
  },
  {
   "cell_type": "code",
   "execution_count": 27,
   "metadata": {
    "execution": {
     "iopub.execute_input": "2021-02-12T07:59:51.667872Z",
     "iopub.status.busy": "2021-02-12T07:59:51.666970Z",
     "iopub.status.idle": "2021-02-12T07:59:52.639168Z",
     "shell.execute_reply": "2021-02-12T07:59:52.639679Z"
    },
    "papermill": {
     "duration": 1.040817,
     "end_time": "2021-02-12T07:59:52.639876",
     "exception": false,
     "start_time": "2021-02-12T07:59:51.599059",
     "status": "completed"
    },
    "tags": []
   },
   "outputs": [],
   "source": [
    "deliveries.replace(team_names,team_names_abv,inplace = True)"
   ]
  },
  {
   "cell_type": "code",
   "execution_count": 28,
   "metadata": {
    "execution": {
     "iopub.execute_input": "2021-02-12T07:59:52.781900Z",
     "iopub.status.busy": "2021-02-12T07:59:52.781197Z",
     "iopub.status.idle": "2021-02-12T07:59:52.938412Z",
     "shell.execute_reply": "2021-02-12T07:59:52.938961Z"
    },
    "papermill": {
     "duration": 0.230753,
     "end_time": "2021-02-12T07:59:52.939148",
     "exception": false,
     "start_time": "2021-02-12T07:59:52.708395",
     "status": "completed"
    },
    "tags": []
   },
   "outputs": [
    {
     "data": {
      "text/plain": [
       "<AxesSubplot:xlabel='inning', ylabel='count'>"
      ]
     },
     "execution_count": 28,
     "metadata": {},
     "output_type": "execute_result"
    },
    {
     "data": {
      "image/png": "[encoded data removed]",
      "text/plain": [
       "<Figure size 864x720 with 1 Axes>"
      ]
     },
     "metadata": {},
     "output_type": "display_data"
    }
   ],
   "source": [
    "sns.countplot(x=deliveries.inning)"
   ]
  },
  {
   "cell_type": "code",
   "execution_count": null,
   "metadata": {
    "papermill": {
     "duration": 0.081042,
     "end_time": "2021-02-12T07:59:53.091441",
     "exception": false,
     "start_time": "2021-02-12T07:59:53.010399",
     "status": "completed"
    },
    "tags": []
   },
   "outputs": [],
   "source": []
  },
  {
   "cell_type": "code",
   "execution_count": 29,
   "metadata": {
    "execution": {
     "iopub.execute_input": "2021-02-12T07:59:53.238089Z",
     "iopub.status.busy": "2021-02-12T07:59:53.237429Z",
     "iopub.status.idle": "2021-02-12T07:59:53.392259Z",
     "shell.execute_reply": "2021-02-12T07:59:53.392852Z"
    },
    "papermill": {
     "duration": 0.224331,
     "end_time": "2021-02-12T07:59:53.393038",
     "exception": false,
     "start_time": "2021-02-12T07:59:53.168707",
     "status": "completed"
    },
    "tags": []
   },
   "outputs": [
    {
     "name": "stdout",
     "output_type": "stream",
     "text": [
      "<class 'pandas.core.frame.DataFrame'>\n",
      "RangeIndex: 193468 entries, 0 to 193467\n",
      "Data columns (total 18 columns):\n",
      " #   Column            Non-Null Count   Dtype \n",
      "---  ------            --------------   ----- \n",
      " 0   id                193468 non-null  int64 \n",
      " 1   inning            193468 non-null  int64 \n",
      " 2   over              193468 non-null  int64 \n",
      " 3   ball              193468 non-null  int64 \n",
      " 4   batsman           193468 non-null  object\n",
      " 5   non_striker       193468 non-null  object\n",
      " 6   bowler            193468 non-null  object\n",
      " 7   batsman_runs      193468 non-null  int64 \n",
      " 8   extra_runs        193468 non-null  int64 \n",
      " 9   total_runs        193468 non-null  int64 \n",
      " 10  non_boundary      193468 non-null  int64 \n",
      " 11  is_wicket         193468 non-null  int64 \n",
      " 12  dismissal_kind    9495 non-null    object\n",
      " 13  player_dismissed  9495 non-null    object\n",
      " 14  fielder           6784 non-null    object\n",
      " 15  extras_type       10233 non-null   object\n",
      " 16  batting_team      193468 non-null  object\n",
      " 17  bowling_team      193277 non-null  object\n",
      "dtypes: int64(9), object(9)\n",
      "memory usage: 26.6+ MB\n"
     ]
    }
   ],
   "source": [
    "deliveries.info()"
   ]
  },
  {
   "cell_type": "code",
   "execution_count": 30,
   "metadata": {
    "execution": {
     "iopub.execute_input": "2021-02-12T07:59:53.531598Z",
     "iopub.status.busy": "2021-02-12T07:59:53.530963Z",
     "iopub.status.idle": "2021-02-12T07:59:53.983967Z",
     "shell.execute_reply": "2021-02-12T07:59:53.983267Z"
    },
    "papermill": {
     "duration": 0.524095,
     "end_time": "2021-02-12T07:59:53.984113",
     "exception": false,
     "start_time": "2021-02-12T07:59:53.460018",
     "status": "completed"
    },
    "tags": []
   },
   "outputs": [
    {
     "data": {
      "text/plain": [
       "<AxesSubplot:>"
      ]
     },
     "execution_count": 30,
     "metadata": {},
     "output_type": "execute_result"
    },
    {
     "data": {
      "image/png": "[encoded data removed]",
      "text/plain": [
       "<Figure size 864x720 with 1 Axes>"
      ]
     },
     "metadata": {},
     "output_type": "display_data"
    }
   ],
   "source": [
    "deliveries.isnull().sum().plot(kind = 'barh')"
   ]
  },
  {
   "cell_type": "code",
   "execution_count": null,
   "metadata": {
    "papermill": {
     "duration": 0.069795,
     "end_time": "2021-02-12T07:59:54.124060",
     "exception": false,
     "start_time": "2021-02-12T07:59:54.054265",
     "status": "completed"
    },
    "tags": []
   },
   "outputs": [],
   "source": []
  },
  {
   "cell_type": "markdown",
   "metadata": {
    "papermill": {
     "duration": 0.067927,
     "end_time": "2021-02-12T07:59:54.263837",
     "exception": false,
     "start_time": "2021-02-12T07:59:54.195910",
     "status": "completed"
    },
    "tags": []
   },
   "source": [
    "### Most Dismissal Ways of Batsman"
   ]
  },
  {
   "cell_type": "code",
   "execution_count": 31,
   "metadata": {
    "execution": {
     "iopub.execute_input": "2021-02-12T07:59:54.422549Z",
     "iopub.status.busy": "2021-02-12T07:59:54.421827Z",
     "iopub.status.idle": "2021-02-12T07:59:54.429119Z",
     "shell.execute_reply": "2021-02-12T07:59:54.429670Z"
    },
    "papermill": {
     "duration": 0.097786,
     "end_time": "2021-02-12T07:59:54.429847",
     "exception": false,
     "start_time": "2021-02-12T07:59:54.332061",
     "status": "completed"
    },
    "tags": []
   },
   "outputs": [
    {
     "data": {
      "text/plain": [
       "caught                   5743\n",
       "bowled                   1700\n",
       "run out                   893\n",
       "lbw                       571\n",
       "stumped                   294\n",
       "caught and bowled         269\n",
       "hit wicket                 12\n",
       "retired hurt               11\n",
       "obstructing the field       2\n",
       "Name: dismissal_kind, dtype: int64"
      ]
     },
     "execution_count": 31,
     "metadata": {},
     "output_type": "execute_result"
    }
   ],
   "source": [
    "deliveries['dismissal_kind'].value_counts()"
   ]
  },
  {
   "cell_type": "markdown",
   "metadata": {
    "papermill": {
     "duration": 0.068734,
     "end_time": "2021-02-12T07:59:54.567178",
     "exception": false,
     "start_time": "2021-02-12T07:59:54.498444",
     "status": "completed"
    },
    "tags": []
   },
   "source": [
    "### Most Matches Played by Batsman"
   ]
  },
  {
   "cell_type": "code",
   "execution_count": 32,
   "metadata": {
    "execution": {
     "iopub.execute_input": "2021-02-12T07:59:54.719363Z",
     "iopub.status.busy": "2021-02-12T07:59:54.718704Z",
     "iopub.status.idle": "2021-02-12T07:59:54.790139Z",
     "shell.execute_reply": "2021-02-12T07:59:54.789474Z"
    },
    "papermill": {
     "duration": 0.153636,
     "end_time": "2021-02-12T07:59:54.790283",
     "exception": false,
     "start_time": "2021-02-12T07:59:54.636647",
     "status": "completed"
    },
    "tags": []
   },
   "outputs": [
    {
     "data": {
      "text/html": [
       "<div>\n",
       "<style scoped>\n",
       "    .dataframe tbody tr th:only-of-type {\n",
       "        vertical-align: middle;\n",
       "    }\n",
       "\n",
       "    .dataframe tbody tr th {\n",
       "        vertical-align: top;\n",
       "    }\n",
       "\n",
       "    .dataframe thead th {\n",
       "        text-align: right;\n",
       "    }\n",
       "</style>\n",
       "<table border=\"1\" class=\"dataframe\">\n",
       "  <thead>\n",
       "    <tr style=\"text-align: right;\">\n",
       "      <th></th>\n",
       "      <th>id</th>\n",
       "    </tr>\n",
       "    <tr>\n",
       "      <th>batsman</th>\n",
       "      <th></th>\n",
       "    </tr>\n",
       "  </thead>\n",
       "  <tbody>\n",
       "    <tr>\n",
       "      <th>RG Sharma</th>\n",
       "      <td>194</td>\n",
       "    </tr>\n",
       "    <tr>\n",
       "      <th>SK Raina</th>\n",
       "      <td>189</td>\n",
       "    </tr>\n",
       "    <tr>\n",
       "      <th>V Kohli</th>\n",
       "      <td>184</td>\n",
       "    </tr>\n",
       "    <tr>\n",
       "      <th>MS Dhoni</th>\n",
       "      <td>182</td>\n",
       "    </tr>\n",
       "    <tr>\n",
       "      <th>RV Uthappa</th>\n",
       "      <td>182</td>\n",
       "    </tr>\n",
       "    <tr>\n",
       "      <th>KD Karthik</th>\n",
       "      <td>176</td>\n",
       "    </tr>\n",
       "    <tr>\n",
       "      <th>S Dhawan</th>\n",
       "      <td>175</td>\n",
       "    </tr>\n",
       "    <tr>\n",
       "      <th>AB de Villiers</th>\n",
       "      <td>156</td>\n",
       "    </tr>\n",
       "    <tr>\n",
       "      <th>YK Pathan</th>\n",
       "      <td>153</td>\n",
       "    </tr>\n",
       "    <tr>\n",
       "      <th>G Gambhir</th>\n",
       "      <td>151</td>\n",
       "    </tr>\n",
       "    <tr>\n",
       "      <th>AT Rayudu</th>\n",
       "      <td>149</td>\n",
       "    </tr>\n",
       "    <tr>\n",
       "      <th>KA Pollard</th>\n",
       "      <td>144</td>\n",
       "    </tr>\n",
       "    <tr>\n",
       "      <th>DA Warner</th>\n",
       "      <td>142</td>\n",
       "    </tr>\n",
       "    <tr>\n",
       "      <th>SR Watson</th>\n",
       "      <td>141</td>\n",
       "    </tr>\n",
       "    <tr>\n",
       "      <th>AM Rahane</th>\n",
       "      <td>140</td>\n",
       "    </tr>\n",
       "  </tbody>\n",
       "</table>\n",
       "</div>"
      ],
      "text/plain": [
       "                 id\n",
       "batsman            \n",
       "RG Sharma       194\n",
       "SK Raina        189\n",
       "V Kohli         184\n",
       "MS Dhoni        182\n",
       "RV Uthappa      182\n",
       "KD Karthik      176\n",
       "S Dhawan        175\n",
       "AB de Villiers  156\n",
       "YK Pathan       153\n",
       "G Gambhir       151\n",
       "AT Rayudu       149\n",
       "KA Pollard      144\n",
       "DA Warner       142\n",
       "SR Watson       141\n",
       "AM Rahane       140"
      ]
     },
     "execution_count": 32,
     "metadata": {},
     "output_type": "execute_result"
    }
   ],
   "source": [
    "most_match_bats = deliveries.groupby(['batsman']).agg({'id': lambda x: len(set(x))}).sort_values(ascending = False,by = 'id')\n",
    "most_match_bats[:15]"
   ]
  },
  {
   "cell_type": "markdown",
   "metadata": {
    "papermill": {
     "duration": 0.072182,
     "end_time": "2021-02-12T07:59:54.933531",
     "exception": false,
     "start_time": "2021-02-12T07:59:54.861349",
     "status": "completed"
    },
    "tags": []
   },
   "source": [
    "### Most Matches Played by Bowler"
   ]
  },
  {
   "cell_type": "code",
   "execution_count": 33,
   "metadata": {
    "execution": {
     "iopub.execute_input": "2021-02-12T07:59:55.091920Z",
     "iopub.status.busy": "2021-02-12T07:59:55.084353Z",
     "iopub.status.idle": "2021-02-12T07:59:55.150510Z",
     "shell.execute_reply": "2021-02-12T07:59:55.149865Z"
    },
    "papermill": {
     "duration": 0.147113,
     "end_time": "2021-02-12T07:59:55.150671",
     "exception": false,
     "start_time": "2021-02-12T07:59:55.003558",
     "status": "completed"
    },
    "tags": []
   },
   "outputs": [
    {
     "data": {
      "text/html": [
       "<div>\n",
       "<style scoped>\n",
       "    .dataframe tbody tr th:only-of-type {\n",
       "        vertical-align: middle;\n",
       "    }\n",
       "\n",
       "    .dataframe tbody tr th {\n",
       "        vertical-align: top;\n",
       "    }\n",
       "\n",
       "    .dataframe thead th {\n",
       "        text-align: right;\n",
       "    }\n",
       "</style>\n",
       "<table border=\"1\" class=\"dataframe\">\n",
       "  <thead>\n",
       "    <tr style=\"text-align: right;\">\n",
       "      <th></th>\n",
       "      <th>id</th>\n",
       "    </tr>\n",
       "    <tr>\n",
       "      <th>bowler</th>\n",
       "      <th></th>\n",
       "    </tr>\n",
       "  </thead>\n",
       "  <tbody>\n",
       "    <tr>\n",
       "      <th>PP Chawla</th>\n",
       "      <td>163</td>\n",
       "    </tr>\n",
       "    <tr>\n",
       "      <th>Harbhajan Singh</th>\n",
       "      <td>157</td>\n",
       "    </tr>\n",
       "    <tr>\n",
       "      <th>RA Jadeja</th>\n",
       "      <td>155</td>\n",
       "    </tr>\n",
       "    <tr>\n",
       "      <th>R Ashwin</th>\n",
       "      <td>151</td>\n",
       "    </tr>\n",
       "    <tr>\n",
       "      <th>A Mishra</th>\n",
       "      <td>150</td>\n",
       "    </tr>\n",
       "    <tr>\n",
       "      <th>DJ Bravo</th>\n",
       "      <td>137</td>\n",
       "    </tr>\n",
       "    <tr>\n",
       "      <th>SL Malinga</th>\n",
       "      <td>122</td>\n",
       "    </tr>\n",
       "    <tr>\n",
       "      <th>B Kumar</th>\n",
       "      <td>121</td>\n",
       "    </tr>\n",
       "    <tr>\n",
       "      <th>UT Yadav</th>\n",
       "      <td>120</td>\n",
       "    </tr>\n",
       "    <tr>\n",
       "      <th>P Kumar</th>\n",
       "      <td>119</td>\n",
       "    </tr>\n",
       "    <tr>\n",
       "      <th>SP Narine</th>\n",
       "      <td>119</td>\n",
       "    </tr>\n",
       "    <tr>\n",
       "      <th>SR Watson</th>\n",
       "      <td>105</td>\n",
       "    </tr>\n",
       "    <tr>\n",
       "      <th>R Vinay Kumar</th>\n",
       "      <td>104</td>\n",
       "    </tr>\n",
       "    <tr>\n",
       "      <th>IK Pathan</th>\n",
       "      <td>101</td>\n",
       "    </tr>\n",
       "    <tr>\n",
       "      <th>Z Khan</th>\n",
       "      <td>99</td>\n",
       "    </tr>\n",
       "  </tbody>\n",
       "</table>\n",
       "</div>"
      ],
      "text/plain": [
       "                  id\n",
       "bowler              \n",
       "PP Chawla        163\n",
       "Harbhajan Singh  157\n",
       "RA Jadeja        155\n",
       "R Ashwin         151\n",
       "A Mishra         150\n",
       "DJ Bravo         137\n",
       "SL Malinga       122\n",
       "B Kumar          121\n",
       "UT Yadav         120\n",
       "P Kumar          119\n",
       "SP Narine        119\n",
       "SR Watson        105\n",
       "R Vinay Kumar    104\n",
       "IK Pathan        101\n",
       "Z Khan            99"
      ]
     },
     "execution_count": 33,
     "metadata": {},
     "output_type": "execute_result"
    }
   ],
   "source": [
    "bowl_match=deliveries.groupby(['bowler']).agg({'id': lambda x : len(set(x))}).sort_values(ascending = False,by = 'id')\n",
    "bowl_match[:15]"
   ]
  },
  {
   "cell_type": "markdown",
   "metadata": {
    "papermill": {
     "duration": 0.070299,
     "end_time": "2021-02-12T07:59:55.293138",
     "exception": false,
     "start_time": "2021-02-12T07:59:55.222839",
     "status": "completed"
    },
    "tags": []
   },
   "source": [
    "### Most delivieries bowled Bowlers"
   ]
  },
  {
   "cell_type": "code",
   "execution_count": 34,
   "metadata": {
    "execution": {
     "iopub.execute_input": "2021-02-12T07:59:55.605854Z",
     "iopub.status.busy": "2021-02-12T07:59:55.484848Z",
     "iopub.status.idle": "2021-02-12T07:59:55.850162Z",
     "shell.execute_reply": "2021-02-12T07:59:55.851092Z"
    },
    "papermill": {
     "duration": 0.487747,
     "end_time": "2021-02-12T07:59:55.851329",
     "exception": false,
     "start_time": "2021-02-12T07:59:55.363582",
     "status": "completed"
    },
    "tags": []
   },
   "outputs": [
    {
     "data": {
      "text/plain": [
       "<AxesSubplot:>"
      ]
     },
     "execution_count": 34,
     "metadata": {},
     "output_type": "execute_result"
    },
    {
     "data": {
      "image/png": "[encoded data removed]",
      "text/plain": [
       "<Figure size 864x720 with 1 Axes>"
      ]
     },
     "metadata": {},
     "output_type": "display_data"
    }
   ],
   "source": [
    "deliveries.bowler.value_counts()[:10].plot(kind = 'bar')"
   ]
  },
  {
   "cell_type": "markdown",
   "metadata": {
    "papermill": {
     "duration": 0.071158,
     "end_time": "2021-02-12T07:59:55.998859",
     "exception": false,
     "start_time": "2021-02-12T07:59:55.927701",
     "status": "completed"
    },
    "tags": []
   },
   "source": [
    "### Batsman having faced maximium balls"
   ]
  },
  {
   "cell_type": "code",
   "execution_count": 35,
   "metadata": {
    "execution": {
     "iopub.execute_input": "2021-02-12T07:59:56.195039Z",
     "iopub.status.busy": "2021-02-12T07:59:56.194326Z",
     "iopub.status.idle": "2021-02-12T07:59:56.202741Z",
     "shell.execute_reply": "2021-02-12T07:59:56.201560Z"
    },
    "papermill": {
     "duration": 0.13242,
     "end_time": "2021-02-12T07:59:56.202895",
     "exception": false,
     "start_time": "2021-02-12T07:59:56.070475",
     "status": "completed"
    },
    "tags": []
   },
   "outputs": [
    {
     "data": {
      "text/plain": [
       "V Kohli           4609\n",
       "S Dhawan          4208\n",
       "RG Sharma         4088\n",
       "SK Raina          4041\n",
       "DA Warner         3819\n",
       "RV Uthappa        3658\n",
       "G Gambhir         3524\n",
       "MS Dhoni          3493\n",
       "CH Gayle          3342\n",
       "AM Rahane         3325\n",
       "AB de Villiers    3264\n",
       "KD Karthik        3023\n",
       "AT Rayudu         2970\n",
       "SR Watson         2888\n",
       "MK Pandey         2772\n",
       "Name: batsman, dtype: int64"
      ]
     },
     "execution_count": 35,
     "metadata": {},
     "output_type": "execute_result"
    }
   ],
   "source": [
    "bats = deliveries.batsman.value_counts()\n",
    "bats[:15]"
   ]
  },
  {
   "cell_type": "markdown",
   "metadata": {
    "papermill": {
     "duration": 0.072128,
     "end_time": "2021-02-12T07:59:56.347425",
     "exception": false,
     "start_time": "2021-02-12T07:59:56.275297",
     "status": "completed"
    },
    "tags": []
   },
   "source": [
    "### Top Batsmans(According to Runs)"
   ]
  },
  {
   "cell_type": "code",
   "execution_count": 36,
   "metadata": {
    "execution": {
     "iopub.execute_input": "2021-02-12T07:59:56.499385Z",
     "iopub.status.busy": "2021-02-12T07:59:56.498431Z",
     "iopub.status.idle": "2021-02-12T07:59:56.527492Z",
     "shell.execute_reply": "2021-02-12T07:59:56.526928Z"
    },
    "papermill": {
     "duration": 0.107325,
     "end_time": "2021-02-12T07:59:56.527649",
     "exception": false,
     "start_time": "2021-02-12T07:59:56.420324",
     "status": "completed"
    },
    "tags": []
   },
   "outputs": [
    {
     "data": {
      "text/plain": [
       "batsman\n",
       "V Kohli           5878\n",
       "SK Raina          5368\n",
       "DA Warner         5254\n",
       "RG Sharma         5230\n",
       "S Dhawan          5197\n",
       "AB de Villiers    4849\n",
       "CH Gayle          4772\n",
       "MS Dhoni          4632\n",
       "RV Uthappa        4607\n",
       "G Gambhir         4217\n",
       "AM Rahane         3933\n",
       "SR Watson         3874\n",
       "KD Karthik        3823\n",
       "AT Rayudu         3659\n",
       "MK Pandey         3268\n",
       "Name: batsman_runs, dtype: int64"
      ]
     },
     "execution_count": 36,
     "metadata": {},
     "output_type": "execute_result"
    }
   ],
   "source": [
    "runs = deliveries.groupby(['batsman']).batsman_runs.sum().sort_values(ascending=False)\n",
    "runs[:15]"
   ]
  },
  {
   "cell_type": "markdown",
   "metadata": {
    "papermill": {
     "duration": 0.073071,
     "end_time": "2021-02-12T07:59:56.673153",
     "exception": false,
     "start_time": "2021-02-12T07:59:56.600082",
     "status": "completed"
    },
    "tags": []
   },
   "source": [
    "### Top Batsman(According to Strike Rates)"
   ]
  },
  {
   "cell_type": "code",
   "execution_count": 37,
   "metadata": {
    "execution": {
     "iopub.execute_input": "2021-02-12T07:59:56.856199Z",
     "iopub.status.busy": "2021-02-12T07:59:56.825509Z",
     "iopub.status.idle": "2021-02-12T07:59:57.124915Z",
     "shell.execute_reply": "2021-02-12T07:59:57.124317Z"
    },
    "papermill": {
     "duration": 0.378723,
     "end_time": "2021-02-12T07:59:57.125062",
     "exception": false,
     "start_time": "2021-02-12T07:59:56.746339",
     "status": "completed"
    },
    "tags": []
   },
   "outputs": [
    {
     "data": {
      "text/plain": [
       "<AxesSubplot:>"
      ]
     },
     "execution_count": 37,
     "metadata": {},
     "output_type": "execute_result"
    },
    {
     "data": {
      "image/png": "[encoded data removed]",
      "text/plain": [
       "<Figure size 864x720 with 1 Axes>"
      ]
     },
     "metadata": {},
     "output_type": "display_data"
    }
   ],
   "source": [
    "strike_rate = (runs/bats[:100]*100).sort_values(ascending = False)\n",
    "strike_rate[:15].plot(kind = 'barh')"
   ]
  },
  {
   "cell_type": "markdown",
   "metadata": {
    "papermill": {
     "duration": 0.07355,
     "end_time": "2021-02-12T07:59:57.273577",
     "exception": false,
     "start_time": "2021-02-12T07:59:57.200027",
     "status": "completed"
    },
    "tags": []
   },
   "source": [
    "### Max no. of times Batsman getting out"
   ]
  },
  {
   "cell_type": "code",
   "execution_count": 38,
   "metadata": {
    "execution": {
     "iopub.execute_input": "2021-02-12T07:59:57.431090Z",
     "iopub.status.busy": "2021-02-12T07:59:57.426194Z",
     "iopub.status.idle": "2021-02-12T07:59:57.455392Z",
     "shell.execute_reply": "2021-02-12T07:59:57.454849Z"
    },
    "papermill": {
     "duration": 0.108334,
     "end_time": "2021-02-12T07:59:57.455533",
     "exception": false,
     "start_time": "2021-02-12T07:59:57.347199",
     "status": "completed"
    },
    "tags": []
   },
   "outputs": [
    {
     "data": {
      "text/plain": [
       "batsman\n",
       "RG Sharma         177\n",
       "RV Uthappa        169\n",
       "V Kohli           163\n",
       "SK Raina          160\n",
       "KD Karthik        152\n",
       "S Dhawan          152\n",
       "G Gambhir         135\n",
       "PA Patel          127\n",
       "DA Warner         126\n",
       "MS Dhoni          126\n",
       "SR Watson         125\n",
       "AM Rahane         125\n",
       "AT Rayudu         123\n",
       "CH Gayle          116\n",
       "AB de Villiers    114\n",
       "Name: is_wicket, dtype: int64"
      ]
     },
     "execution_count": 38,
     "metadata": {},
     "output_type": "execute_result"
    }
   ],
   "source": [
    "out = deliveries.groupby(['batsman']).is_wicket.sum().sort_values(ascending = False)\n",
    "out[:15]"
   ]
  },
  {
   "cell_type": "markdown",
   "metadata": {
    "papermill": {
     "duration": 0.073688,
     "end_time": "2021-02-12T07:59:57.603399",
     "exception": false,
     "start_time": "2021-02-12T07:59:57.529711",
     "status": "completed"
    },
    "tags": []
   },
   "source": [
    "### Max Average by Batsman"
   ]
  },
  {
   "cell_type": "code",
   "execution_count": 39,
   "metadata": {
    "execution": {
     "iopub.execute_input": "2021-02-12T07:59:57.763051Z",
     "iopub.status.busy": "2021-02-12T07:59:57.762014Z",
     "iopub.status.idle": "2021-02-12T07:59:57.768902Z",
     "shell.execute_reply": "2021-02-12T07:59:57.769419Z"
    },
    "papermill": {
     "duration": 0.091801,
     "end_time": "2021-02-12T07:59:57.769605",
     "exception": false,
     "start_time": "2021-02-12T07:59:57.677804",
     "status": "completed"
    },
    "tags": []
   },
   "outputs": [
    {
     "data": {
      "text/plain": [
       "batsman\n",
       "HM Amla           44.384615\n",
       "KL Rahul          42.693548\n",
       "AB de Villiers    42.535088\n",
       "DA Warner         41.698413\n",
       "JP Duminy         41.408163\n",
       "CH Gayle          41.137931\n",
       "ML Hayden         41.000000\n",
       "LMP Simmons       39.962963\n",
       "JM Bairstow       39.500000\n",
       "KS Williamson     39.487805\n",
       "OA Shah           38.923077\n",
       "SE Marsh          38.703125\n",
       "MEK Hussey        38.019231\n",
       "A Symonds         37.461538\n",
       "MS Dhoni          36.761905\n",
       "dtype: float64"
      ]
     },
     "execution_count": 39,
     "metadata": {},
     "output_type": "execute_result"
    }
   ],
   "source": [
    "avg = (runs/out[:240]).sort_values(ascending = False)\n",
    "avg[:15]"
   ]
  },
  {
   "cell_type": "markdown",
   "metadata": {
    "papermill": {
     "duration": 0.078377,
     "end_time": "2021-02-12T07:59:57.924234",
     "exception": false,
     "start_time": "2021-02-12T07:59:57.845857",
     "status": "completed"
    },
    "tags": []
   },
   "source": [
    "### Batsman hitted maximium number of 6s"
   ]
  },
  {
   "cell_type": "code",
   "execution_count": 40,
   "metadata": {
    "execution": {
     "iopub.execute_input": "2021-02-12T07:59:58.087772Z",
     "iopub.status.busy": "2021-02-12T07:59:58.087020Z",
     "iopub.status.idle": "2021-02-12T07:59:58.098977Z",
     "shell.execute_reply": "2021-02-12T07:59:58.098296Z"
    },
    "papermill": {
     "duration": 0.096568,
     "end_time": "2021-02-12T07:59:58.099134",
     "exception": false,
     "start_time": "2021-02-12T07:59:58.002566",
     "status": "completed"
    },
    "tags": []
   },
   "outputs": [
    {
     "data": {
      "text/plain": [
       "CH Gayle          349\n",
       "AB de Villiers    235\n",
       "MS Dhoni          216\n",
       "RG Sharma         214\n",
       "V Kohli           202\n",
       "KA Pollard        198\n",
       "DA Warner         195\n",
       "SK Raina          194\n",
       "SR Watson         190\n",
       "RV Uthappa        163\n",
       "YK Pathan         159\n",
       "Yuvraj Singh      149\n",
       "AT Rayudu         132\n",
       "BB McCullum       130\n",
       "AD Russell        129\n",
       "Name: batsman, dtype: int64"
      ]
     },
     "execution_count": 40,
     "metadata": {},
     "output_type": "execute_result"
    }
   ],
   "source": [
    "deliveries.batsman[deliveries.batsman_runs ==6].value_counts()[:15]"
   ]
  },
  {
   "cell_type": "markdown",
   "metadata": {
    "papermill": {
     "duration": 0.077543,
     "end_time": "2021-02-12T07:59:58.256891",
     "exception": false,
     "start_time": "2021-02-12T07:59:58.179348",
     "status": "completed"
    },
    "tags": []
   },
   "source": [
    "### Batsman hitted maximium number of 4s"
   ]
  },
  {
   "cell_type": "code",
   "execution_count": 41,
   "metadata": {
    "execution": {
     "iopub.execute_input": "2021-02-12T07:59:58.414943Z",
     "iopub.status.busy": "2021-02-12T07:59:58.413515Z",
     "iopub.status.idle": "2021-02-12T07:59:58.428001Z",
     "shell.execute_reply": "2021-02-12T07:59:58.428544Z"
    },
    "papermill": {
     "duration": 0.096785,
     "end_time": "2021-02-12T07:59:58.428740",
     "exception": false,
     "start_time": "2021-02-12T07:59:58.331955",
     "status": "completed"
    },
    "tags": []
   },
   "outputs": [
    {
     "data": {
      "text/plain": [
       "S Dhawan          591\n",
       "DA Warner         510\n",
       "V Kohli           504\n",
       "SK Raina          493\n",
       "G Gambhir         492\n",
       "RG Sharma         458\n",
       "RV Uthappa        454\n",
       "AM Rahane         416\n",
       "AB de Villiers    390\n",
       "CH Gayle          384\n",
       "Name: batsman, dtype: int64"
      ]
     },
     "execution_count": 41,
     "metadata": {},
     "output_type": "execute_result"
    }
   ],
   "source": [
    "deliveries.batsman[deliveries.batsman_runs ==4].value_counts()[:10]"
   ]
  },
  {
   "cell_type": "markdown",
   "metadata": {
    "papermill": {
     "duration": 0.075785,
     "end_time": "2021-02-12T07:59:58.581388",
     "exception": false,
     "start_time": "2021-02-12T07:59:58.505603",
     "status": "completed"
    },
    "tags": []
   },
   "source": [
    "### No. of Times Batsman Hitted Six on No-Ball"
   ]
  },
  {
   "cell_type": "code",
   "execution_count": 42,
   "metadata": {
    "execution": {
     "iopub.execute_input": "2021-02-12T07:59:58.740721Z",
     "iopub.status.busy": "2021-02-12T07:59:58.740027Z",
     "iopub.status.idle": "2021-02-12T07:59:58.746772Z",
     "shell.execute_reply": "2021-02-12T07:59:58.747359Z"
    },
    "papermill": {
     "duration": 0.089145,
     "end_time": "2021-02-12T07:59:58.747548",
     "exception": false,
     "start_time": "2021-02-12T07:59:58.658403",
     "status": "completed"
    },
    "tags": []
   },
   "outputs": [
    {
     "data": {
      "text/plain": [
       "CH Gayle          5\n",
       "KA Pollard        3\n",
       "AB de Villiers    3\n",
       "DA Warner         3\n",
       "BB McCullum       2\n",
       "SPD Smith         2\n",
       "JC Archer         2\n",
       "MS Dhoni          2\n",
       "RG Sharma         2\n",
       "SK Raina          1\n",
       "Name: batsman, dtype: int64"
      ]
     },
     "execution_count": 42,
     "metadata": {},
     "output_type": "execute_result"
    }
   ],
   "source": [
    "deliveries.batsman[deliveries.total_runs==7].value_counts()[:10]"
   ]
  },
  {
   "cell_type": "markdown",
   "metadata": {
    "papermill": {
     "duration": 0.078063,
     "end_time": "2021-02-12T07:59:58.901920",
     "exception": false,
     "start_time": "2021-02-12T07:59:58.823857",
     "status": "completed"
    },
    "tags": []
   },
   "source": [
    "### Most Wickets by Bowler"
   ]
  },
  {
   "cell_type": "code",
   "execution_count": 43,
   "metadata": {
    "execution": {
     "iopub.execute_input": "2021-02-12T07:59:59.067049Z",
     "iopub.status.busy": "2021-02-12T07:59:59.066140Z",
     "iopub.status.idle": "2021-02-12T07:59:59.088718Z",
     "shell.execute_reply": "2021-02-12T07:59:59.089305Z"
    },
    "papermill": {
     "duration": 0.110608,
     "end_time": "2021-02-12T07:59:59.089500",
     "exception": false,
     "start_time": "2021-02-12T07:59:58.978892",
     "status": "completed"
    },
    "tags": []
   },
   "outputs": [
    {
     "data": {
      "text/plain": [
       "bowler\n",
       "SL Malinga         188\n",
       "DJ Bravo           175\n",
       "A Mishra           169\n",
       "PP Chawla          164\n",
       "Harbhajan Singh    161\n",
       "R Ashwin           153\n",
       "B Kumar            146\n",
       "SP Narine          143\n",
       "UT Yadav           137\n",
       "R Vinay Kumar      127\n",
       "YS Chahal          124\n",
       "RA Jadeja          122\n",
       "A Nehra            121\n",
       "JJ Bumrah          119\n",
       "Z Khan             119\n",
       "Name: is_wicket, dtype: int64"
      ]
     },
     "execution_count": 43,
     "metadata": {},
     "output_type": "execute_result"
    }
   ],
   "source": [
    "most_wickets = deliveries.groupby(['bowler']).is_wicket.sum().sort_values(ascending = False)\n",
    "most_wickets[:15]"
   ]
  },
  {
   "cell_type": "markdown",
   "metadata": {
    "papermill": {
     "duration": 0.078885,
     "end_time": "2021-02-12T07:59:59.246739",
     "exception": false,
     "start_time": "2021-02-12T07:59:59.167854",
     "status": "completed"
    },
    "tags": []
   },
   "source": [
    "### Bowlers who give more extra runs(Including LB,NB,Wide) per match"
   ]
  },
  {
   "cell_type": "code",
   "execution_count": 44,
   "metadata": {
    "execution": {
     "iopub.execute_input": "2021-02-12T07:59:59.410106Z",
     "iopub.status.busy": "2021-02-12T07:59:59.406086Z",
     "iopub.status.idle": "2021-02-12T07:59:59.434242Z",
     "shell.execute_reply": "2021-02-12T07:59:59.433583Z"
    },
    "papermill": {
     "duration": 0.11048,
     "end_time": "2021-02-12T07:59:59.434423",
     "exception": false,
     "start_time": "2021-02-12T07:59:59.323943",
     "status": "completed"
    },
    "tags": []
   },
   "outputs": [
    {
     "data": {
      "text/plain": [
       "bowler\n",
       "AA Noffke           6.000000\n",
       "Abdur Razzak        6.000000\n",
       "Umar Gul            5.333333\n",
       "SW Tait             5.285714\n",
       "Mashrafe Mortaza    5.000000\n",
       "SM Harwood          4.333333\n",
       "VS Yeligati         4.000000\n",
       "Monu Kumar          4.000000\n",
       "SD Chitnis          4.000000\n",
       "AF Milne            3.800000\n",
       "GC Viljoen          3.166667\n",
       "WD Parnell          3.076923\n",
       "AP Dole             3.000000\n",
       "JR Hazlewood        3.000000\n",
       "RG More             3.000000\n",
       "dtype: float64"
      ]
     },
     "execution_count": 44,
     "metadata": {},
     "output_type": "execute_result"
    }
   ],
   "source": [
    "(deliveries.groupby(['bowler']).extra_runs.sum()/bowl_match['id']).sort_values(ascending = False)[:15]"
   ]
  },
  {
   "cell_type": "markdown",
   "metadata": {
    "papermill": {
     "duration": 0.076765,
     "end_time": "2021-02-12T07:59:59.588621",
     "exception": false,
     "start_time": "2021-02-12T07:59:59.511856",
     "status": "completed"
    },
    "tags": []
   },
   "source": [
    "### Highest Scores by team"
   ]
  },
  {
   "cell_type": "code",
   "execution_count": 45,
   "metadata": {
    "execution": {
     "iopub.execute_input": "2021-02-12T07:59:59.753275Z",
     "iopub.status.busy": "2021-02-12T07:59:59.752558Z",
     "iopub.status.idle": "2021-02-12T07:59:59.786126Z",
     "shell.execute_reply": "2021-02-12T07:59:59.785595Z"
    },
    "papermill": {
     "duration": 0.118302,
     "end_time": "2021-02-12T07:59:59.786272",
     "exception": false,
     "start_time": "2021-02-12T07:59:59.667970",
     "status": "completed"
    },
    "tags": []
   },
   "outputs": [
    {
     "data": {
      "text/plain": [
       "id       batting_team\n",
       "598027   RCB             263\n",
       "980987   RCB             248\n",
       "419137   CSK             246\n",
       "1136604  KKR             245\n",
       "335983   CSK             240\n",
       "829795   RCB             235\n",
       "501260   KXIP            232\n",
       "1178422  KKR             232\n",
       "733987   KXIP            231\n",
       "501223   DD              231\n",
       "1175366  SH              231\n",
       "1082641  KXIP            230\n",
       "1216515  DC              228\n",
       "980907   RCB             227\n",
       "829785   RCB             226\n",
       "Name: total_runs, dtype: int64"
      ]
     },
     "execution_count": 45,
     "metadata": {},
     "output_type": "execute_result"
    }
   ],
   "source": [
    "deliveries.groupby(['id','batting_team']).total_runs.sum().sort_values(ascending = False)[:15]"
   ]
  },
  {
   "cell_type": "markdown",
   "metadata": {
    "papermill": {
     "duration": 0.079016,
     "end_time": "2021-02-12T07:59:59.943962",
     "exception": false,
     "start_time": "2021-02-12T07:59:59.864946",
     "status": "completed"
    },
    "tags": []
   },
   "source": [
    "### Wicket Hauls by bowlers"
   ]
  },
  {
   "cell_type": "code",
   "execution_count": 46,
   "metadata": {
    "execution": {
     "iopub.execute_input": "2021-02-12T08:00:00.108444Z",
     "iopub.status.busy": "2021-02-12T08:00:00.107798Z",
     "iopub.status.idle": "2021-02-12T08:00:00.142227Z",
     "shell.execute_reply": "2021-02-12T08:00:00.141709Z"
    },
    "papermill": {
     "duration": 0.118979,
     "end_time": "2021-02-12T08:00:00.142438",
     "exception": false,
     "start_time": "2021-02-12T08:00:00.023459",
     "status": "completed"
    },
    "tags": []
   },
   "outputs": [
    {
     "data": {
      "text/plain": [
       "0    3914\n",
       "1    3136\n",
       "2    1761\n",
       "3     632\n",
       "4     184\n",
       "5      35\n",
       "6       5\n",
       "Name: is_wicket, dtype: int64"
      ]
     },
     "execution_count": 46,
     "metadata": {},
     "output_type": "execute_result"
    }
   ],
   "source": [
    "deliveries.groupby(['id','bowler']).is_wicket.sum().sort_values(ascending = False).value_counts()\n"
   ]
  },
  {
   "cell_type": "markdown",
   "metadata": {
    "papermill": {
     "duration": 0.078758,
     "end_time": "2021-02-12T08:00:00.301480",
     "exception": false,
     "start_time": "2021-02-12T08:00:00.222722",
     "status": "completed"
    },
    "tags": []
   },
   "source": [
    "Only 6 times in IPL, bowler able to take 6 wickets in Match.\n",
    "Only 5 times in IPL, bowler took 5 Wickets."
   ]
  },
  {
   "cell_type": "markdown",
   "metadata": {
    "papermill": {
     "duration": 0.078234,
     "end_time": "2021-02-12T08:00:00.458511",
     "exception": false,
     "start_time": "2021-02-12T08:00:00.380277",
     "status": "completed"
    },
    "tags": []
   },
   "source": [
    "### Highest Scores by Batsman in a Match"
   ]
  },
  {
   "cell_type": "code",
   "execution_count": 47,
   "metadata": {
    "execution": {
     "iopub.execute_input": "2021-02-12T08:00:00.624397Z",
     "iopub.status.busy": "2021-02-12T08:00:00.623645Z",
     "iopub.status.idle": "2021-02-12T08:00:00.727795Z",
     "shell.execute_reply": "2021-02-12T08:00:00.726511Z"
    },
    "papermill": {
     "duration": 0.18864,
     "end_time": "2021-02-12T08:00:00.727949",
     "exception": false,
     "start_time": "2021-02-12T08:00:00.539309",
     "status": "completed"
    },
    "tags": []
   },
   "outputs": [
    {
     "data": {
      "text/plain": [
       "batsman         id       batting_team\n",
       "CH Gayle        598027   RCB             175\n",
       "BB McCullum     335982   KKR             158\n",
       "AB de Villiers  829795   RCB             133\n",
       "KL Rahul        1216510  KXIP            132\n",
       "AB de Villiers  980987   RCB             129\n",
       "CH Gayle        548372   RCB             128\n",
       "RR Pant         1136602  DD              128\n",
       "M Vijay         419137   CSK             127\n",
       "DA Warner       1082627  SH              126\n",
       "V Sehwag        734047   KXIP            122\n",
       "PC Valthaty     501206   KXIP            120\n",
       "V Sehwag        501243   DD              119\n",
       "A Symonds       335990   DeCh            117\n",
       "CH Gayle        829785   RCB             117\n",
       "SR Watson       1136620  CSK             117\n",
       "dtype: int64"
      ]
     },
     "execution_count": 47,
     "metadata": {},
     "output_type": "execute_result"
    }
   ],
   "source": [
    "\n",
    "high_scores=(deliveries.groupby(['batsman','id','batting_team']).total_runs.sum()-deliveries.groupby(['batsman','id','batting_team']).extra_runs.sum()).sort_values(ascending = False)[:15]\n",
    "high_scores"
   ]
  },
  {
   "cell_type": "code",
   "execution_count": null,
   "metadata": {
    "papermill": {
     "duration": 0.079851,
     "end_time": "2021-02-12T08:00:00.886878",
     "exception": false,
     "start_time": "2021-02-12T08:00:00.807027",
     "status": "completed"
    },
    "tags": []
   },
   "outputs": [],
   "source": []
  }
 ],
 "metadata": {
  "kernelspec": {
   "display_name": "Python 3",
   "language": "python",
   "name": "python3"
  },
  "language_info": {
   "codemirror_mode": {
    "name": "ipython",
    "version": 3
   },
   "file_extension": ".py",
   "mimetype": "text/x-python",
   "name": "python",
   "nbconvert_exporter": "python",
   "pygments_lexer": "ipython3",
   "version": "3.7.9"
  },
  "papermill": {
   "default_parameters": {},
   "duration": 25.426772,
   "end_time": "2021-02-12T08:00:01.677321",
   "environment_variables": {},
   "exception": null,
   "input_path": "__notebook__.ipynb",
   "output_path": "__notebook__.ipynb",
   "parameters": {},
   "start_time": "2021-02-12T07:59:36.250549",
   "version": "2.2.2"
  }
 },
 "nbformat": 4,
 "nbformat_minor": 4
}
