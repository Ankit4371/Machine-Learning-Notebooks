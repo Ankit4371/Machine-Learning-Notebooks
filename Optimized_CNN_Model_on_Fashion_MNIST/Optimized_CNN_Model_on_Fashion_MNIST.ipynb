{
  "nbformat": 4,
  "nbformat_minor": 0,
  "metadata": {
    "colab": {
      "name": "Optimized CNN Model on Fashion MNIST.ipynb",
      "provenance": [],
      "collapsed_sections": [],
      "authorship_tag": "ABX9TyNX17B9/6lIgMlLHjziGg2T",
      "include_colab_link": true
    },
    "kernelspec": {
      "name": "python3",
      "display_name": "Python 3"
    },
    "accelerator": "GPU"
  },
  "cells": [
    {
      "cell_type": "markdown",
      "metadata": {
        "id": "view-in-github",
        "colab_type": "text"
      },
      "source": [
        "<a href=\"https://colab.research.google.com/github/Ankit4371/Machine-Learning-Notebooks/blob/main/Optimized_CNN_Model_on_Fashion_MNIST/Optimized_CNN_Model_on_Fashion_MNIST.ipynb\" target=\"_parent\"><img src=\"https://colab.research.google.com/assets/colab-badge.svg\" alt=\"Open In Colab\"/></a>"
      ]
    },
    {
      "cell_type": "markdown",
      "metadata": {
        "id": "vaFKo7eWw3i5"
      },
      "source": [
        "# Fashion MNIST\r\n",
        "The Fashion-MNIST dataset is proposed as a more challenging replacement dataset for the MNIST dataset.\r\n",
        "\r\n",
        "It is a dataset comprised of 60,000 small square 28×28 pixel grayscale images of items of 10 types of clothing, such as shoes, t-shirts, dresses, and more. The mapping of all 0-9 integers to class labels is listed below.\r\n",
        "\r\n",
        "0: T-shirt/top   \r\n",
        "1: Trouser   \r\n",
        "2: Pullover   \r\n",
        "3: Dress  \r\n",
        "4: Coat  \r\n",
        "5: Sandal  \r\n",
        "6: Shirt  \r\n",
        "7: Sneaker  \r\n",
        "8: Bag  \r\n",
        "9: Ankle boot  "
      ]
    },
    {
      "cell_type": "markdown",
      "metadata": {
        "id": "i0O4NR9fmSYC"
      },
      "source": [
        "Installing Libraries"
      ]
    },
    {
      "cell_type": "code",
      "metadata": {
        "colab": {
          "base_uri": "https://localhost:8080/"
        },
        "id": "DQv2y_1hWhCs",
        "outputId": "cf48ba7e-0f1d-46bb-ed3a-8e823c083678"
      },
      "source": [
        "!pip install keras-tuner"
      ],
      "execution_count": 126,
      "outputs": [
        {
          "output_type": "stream",
          "text": [
            "Requirement already satisfied: keras-tuner in /usr/local/lib/python3.7/dist-packages (1.0.2)\n",
            "Requirement already satisfied: tabulate in /usr/local/lib/python3.7/dist-packages (from keras-tuner) (0.8.9)\n",
            "Requirement already satisfied: requests in /usr/local/lib/python3.7/dist-packages (from keras-tuner) (2.23.0)\n",
            "Requirement already satisfied: packaging in /usr/local/lib/python3.7/dist-packages (from keras-tuner) (20.9)\n",
            "Requirement already satisfied: numpy in /usr/local/lib/python3.7/dist-packages (from keras-tuner) (1.19.5)\n",
            "Requirement already satisfied: colorama in /usr/local/lib/python3.7/dist-packages (from keras-tuner) (0.4.4)\n",
            "Requirement already satisfied: future in /usr/local/lib/python3.7/dist-packages (from keras-tuner) (0.16.0)\n",
            "Requirement already satisfied: scipy in /usr/local/lib/python3.7/dist-packages (from keras-tuner) (1.4.1)\n",
            "Requirement already satisfied: scikit-learn in /usr/local/lib/python3.7/dist-packages (from keras-tuner) (0.22.2.post1)\n",
            "Requirement already satisfied: tqdm in /usr/local/lib/python3.7/dist-packages (from keras-tuner) (4.41.1)\n",
            "Requirement already satisfied: terminaltables in /usr/local/lib/python3.7/dist-packages (from keras-tuner) (3.1.0)\n",
            "Requirement already satisfied: certifi>=2017.4.17 in /usr/local/lib/python3.7/dist-packages (from requests->keras-tuner) (2020.12.5)\n",
            "Requirement already satisfied: idna<3,>=2.5 in /usr/local/lib/python3.7/dist-packages (from requests->keras-tuner) (2.10)\n",
            "Requirement already satisfied: urllib3!=1.25.0,!=1.25.1,<1.26,>=1.21.1 in /usr/local/lib/python3.7/dist-packages (from requests->keras-tuner) (1.24.3)\n",
            "Requirement already satisfied: chardet<4,>=3.0.2 in /usr/local/lib/python3.7/dist-packages (from requests->keras-tuner) (3.0.4)\n",
            "Requirement already satisfied: pyparsing>=2.0.2 in /usr/local/lib/python3.7/dist-packages (from packaging->keras-tuner) (2.4.7)\n",
            "Requirement already satisfied: joblib>=0.11 in /usr/local/lib/python3.7/dist-packages (from scikit-learn->keras-tuner) (1.0.1)\n"
          ],
          "name": "stdout"
        }
      ]
    },
    {
      "cell_type": "code",
      "metadata": {
        "id": "ECwTBqosWlJx"
      },
      "source": [
        "import tensorflow as tf\r\n",
        "from tensorflow import keras\r\n",
        "import numpy as np\r\n",
        "import matplotlib.pyplot as plt\r\n",
        "import random"
      ],
      "execution_count": 127,
      "outputs": []
    },
    {
      "cell_type": "markdown",
      "metadata": {
        "id": "ylbuyGyawW0O"
      },
      "source": [
        "### Loading Data"
      ]
    },
    {
      "cell_type": "code",
      "metadata": {
        "id": "tVt8bTY4WyPj"
      },
      "source": [
        "fashion_mnist = keras.datasets.fashion_mnist"
      ],
      "execution_count": 128,
      "outputs": []
    },
    {
      "cell_type": "markdown",
      "metadata": {
        "id": "8lE7EM0Fwa5J"
      },
      "source": [
        "Preparing Data"
      ]
    },
    {
      "cell_type": "code",
      "metadata": {
        "id": "SpP1tNUnW4KG"
      },
      "source": [
        "(train_images,train_labels),(test_images,test_labes) = fashion_mnist.load_data()"
      ],
      "execution_count": 129,
      "outputs": []
    },
    {
      "cell_type": "code",
      "metadata": {
        "id": "Mr7GeLtIvcym"
      },
      "source": [
        "orig_img= test_images"
      ],
      "execution_count": 130,
      "outputs": []
    },
    {
      "cell_type": "code",
      "metadata": {
        "colab": {
          "base_uri": "https://localhost:8080/"
        },
        "id": "L4ogOnF2rpMc",
        "outputId": "3a3f6277-73ad-41c8-c30d-9556153fe465"
      },
      "source": [
        "train_images.shape"
      ],
      "execution_count": 131,
      "outputs": [
        {
          "output_type": "execute_result",
          "data": {
            "text/plain": [
              "(60000, 28, 28)"
            ]
          },
          "metadata": {
            "tags": []
          },
          "execution_count": 131
        }
      ]
    },
    {
      "cell_type": "code",
      "metadata": {
        "id": "ok5HYKzdxNAW"
      },
      "source": [
        "classes = ['T-shirt/top','Trouser','Pullover','Dress','Coat','Sandal','Shirt','Sneaker','Bag','Ankle boot' ]"
      ],
      "execution_count": 132,
      "outputs": []
    },
    {
      "cell_type": "code",
      "metadata": {
        "colab": {
          "base_uri": "https://localhost:8080/",
          "height": 1000
        },
        "id": "ffyQuXd3q_MH",
        "outputId": "50f62981-88dc-42f3-bd86-4c745af4d8f0"
      },
      "source": [
        "\r\n",
        "for i in range(1,10):\r\n",
        "  index = random.randrange(60000)\r\n",
        "  plt.imshow(train_images[index],cmap='gray')\r\n",
        "  plt.title('Label: %s'% classes[train_labels[index]])\r\n",
        "  plt.show()"
      ],
      "execution_count": 133,
      "outputs": [
        {
          "output_type": "display_data",
          "data": {
            "image/png": "[encoded data removed]",
            "text/plain": [
              "<Figure size 432x288 with 1 Axes>"
            ]
          },
          "metadata": {
            "tags": [],
            "needs_background": "light"
          }
        },
        {
          "output_type": "display_data",
          "data": {
            "image/png": "[encoded data removed]",
            "text/plain": [
              "<Figure size 432x288 with 1 Axes>"
            ]
          },
          "metadata": {
            "tags": [],
            "needs_background": "light"
          }
        },
        {
          "output_type": "display_data",
          "data": {
            "image/png": "[encoded data removed]",
            "text/plain": [
              "<Figure size 432x288 with 1 Axes>"
            ]
          },
          "metadata": {
            "tags": [],
            "needs_background": "light"
          }
        },
        {
          "output_type": "display_data",
          "data": {
            "image/png": "[encoded data removed]",
            "text/plain": [
              "<Figure size 432x288 with 1 Axes>"
            ]
          },
          "metadata": {
            "tags": [],
            "needs_background": "light"
          }
        },
        {
          "output_type": "display_data",
          "data": {
            "image/png": "[encoded data removed]",
            "text/plain": [
              "<Figure size 432x288 with 1 Axes>"
            ]
          },
          "metadata": {
            "tags": [],
            "needs_background": "light"
          }
        },
        {
          "output_type": "display_data",
          "data": {
            "image/png": "[encoded data removed]",
            "text/plain": [
              "<Figure size 432x288 with 1 Axes>"
            ]
          },
          "metadata": {
            "tags": [],
            "needs_background": "light"
          }
        },
        {
          "output_type": "display_data",
          "data": {
            "image/png": "[encoded data removed]",
            "text/plain": [
              "<Figure size 432x288 with 1 Axes>"
            ]
          },
          "metadata": {
            "tags": [],
            "needs_background": "light"
          }
        },
        {
          "output_type": "display_data",
          "data": {
            "image/png": "[encoded data removed]",
            "text/plain": [
              "<Figure size 432x288 with 1 Axes>"
            ]
          },
          "metadata": {
            "tags": [],
            "needs_background": "light"
          }
        },
        {
          "output_type": "display_data",
          "data": {
            "image/png": "[encoded data removed]",
            "text/plain": [
              "<Figure size 432x288 with 1 Axes>"
            ]
          },
          "metadata": {
            "tags": [],
            "needs_background": "light"
          }
        }
      ]
    },
    {
      "cell_type": "code",
      "metadata": {
        "id": "ndjnK-Y7W5tC"
      },
      "source": [
        "train_images= train_images/255.0\r\n",
        "test_images = test_images/255.0"
      ],
      "execution_count": 134,
      "outputs": []
    },
    {
      "cell_type": "code",
      "metadata": {
        "id": "mQSFVY7_m_kD"
      },
      "source": [
        ""
      ],
      "execution_count": 134,
      "outputs": []
    },
    {
      "cell_type": "code",
      "metadata": {
        "colab": {
          "base_uri": "https://localhost:8080/"
        },
        "id": "jwArSKNTXWnd",
        "outputId": "7d30ed4d-49bc-4d92-9a34-a9f424b3acab"
      },
      "source": [
        "train_images[0].shape"
      ],
      "execution_count": 135,
      "outputs": [
        {
          "output_type": "execute_result",
          "data": {
            "text/plain": [
              "(28, 28)"
            ]
          },
          "metadata": {
            "tags": []
          },
          "execution_count": 135
        }
      ]
    },
    {
      "cell_type": "code",
      "metadata": {
        "id": "xvjCEFwwXY3H"
      },
      "source": [
        "\r\n",
        "train_images = train_images.reshape(len(train_images),28,28,1)\r\n",
        "test_images = test_images.reshape(len(test_images),28,28,1)\r\n"
      ],
      "execution_count": 136,
      "outputs": []
    },
    {
      "cell_type": "markdown",
      "metadata": {
        "id": "-zRjsF9Fv6Ab"
      },
      "source": [
        "## Finding best parameters"
      ]
    },
    {
      "cell_type": "code",
      "metadata": {
        "id": "q3hJnmx3XwZ7"
      },
      "source": [
        "def build_model(hp):\r\n",
        "  model = keras.Sequential([\r\n",
        "        keras.layers.Conv2D(\r\n",
        "            filters = hp.Int('conv_1_filter',min_value = 32,max_value = 128,step = 16),\r\n",
        "            kernel_size = hp.Choice('conv_1_kernel',values = [3,5]),\r\n",
        "            activation = 'relu',\r\n",
        "            input_shape = (28,28,1)\r\n",
        "          ),\r\n",
        "          keras.layers.Conv2D(\r\n",
        "            filters = hp.Int('conv_2_filter',min_value = 32,max_value = 64,step = 16),\r\n",
        "            kernel_size = hp.Choice('conv_2_kernel',values = [3,5]),\r\n",
        "            activation = 'relu',\r\n",
        "          ),\r\n",
        "          keras.layers.Flatten(),\r\n",
        "          keras.layers.Dense(\r\n",
        "              units = hp.Int('dense_1_units',min_value = 32,max_value = 128, step = 16),\r\n",
        "              activation='relu'\r\n",
        "          ),\r\n",
        "          keras.layers.Dense(10,activation='softmax')\r\n",
        "\r\n",
        "\r\n",
        "  ])\r\n",
        "  model.compile(optimizer = keras.optimizers.Adam(hp.Choice('learning_rate',values = [1e-1,1e-2,1e-3]))\r\n",
        "  ,loss = 'sparse_categorical_crossentropy',\r\n",
        "  metrics = ['accuracy'])\r\n",
        "\r\n",
        "  return model"
      ],
      "execution_count": 137,
      "outputs": []
    },
    {
      "cell_type": "code",
      "metadata": {
        "id": "GuKt1kw4eapu"
      },
      "source": [
        "from kerastuner import RandomSearch\r\n",
        "from kerastuner.engine.hyperparameters import HyperParameters"
      ],
      "execution_count": 138,
      "outputs": []
    },
    {
      "cell_type": "code",
      "metadata": {
        "colab": {
          "base_uri": "https://localhost:8080/"
        },
        "id": "C8bpbKRie0k1",
        "outputId": "e95fa4ab-adbf-45a8-8309-d0f427502477"
      },
      "source": [
        "tuner_search = RandomSearch(build_model,\r\n",
        "                            objective = 'val_accuracy',\r\n",
        "                            max_trials =5,\r\n",
        "                            directory = 'output',\r\n",
        "                            project_name = 'fashion_mnist')"
      ],
      "execution_count": 139,
      "outputs": [
        {
          "output_type": "stream",
          "text": [
            "INFO:tensorflow:Reloading Oracle from existing project output/fashion_mnist/oracle.json\n",
            "INFO:tensorflow:Reloading Tuner from output/fashion_mnist/tuner0.json\n"
          ],
          "name": "stdout"
        }
      ]
    },
    {
      "cell_type": "code",
      "metadata": {
        "colab": {
          "base_uri": "https://localhost:8080/"
        },
        "id": "vIAjfRvjfRa3",
        "outputId": "06fe38ae-9b63-455a-e040-47751747f8e5"
      },
      "source": [
        "tuner_search.search(train_images,train_labels,epochs =3,validation_split = 0.1)"
      ],
      "execution_count": 140,
      "outputs": [
        {
          "output_type": "stream",
          "text": [
            "INFO:tensorflow:Oracle triggered exit\n"
          ],
          "name": "stdout"
        }
      ]
    },
    {
      "cell_type": "code",
      "metadata": {
        "id": "NM-2OPIWgMG-"
      },
      "source": [
        "model = tuner_search.get_best_models(num_models=1)[0]"
      ],
      "execution_count": 141,
      "outputs": []
    },
    {
      "cell_type": "markdown",
      "metadata": {
        "id": "pBpPJ26uwOdg"
      },
      "source": [
        "### Training Model"
      ]
    },
    {
      "cell_type": "code",
      "metadata": {
        "colab": {
          "base_uri": "https://localhost:8080/"
        },
        "id": "XA7ls7kIhXXc",
        "outputId": "a8a28f3a-25b8-4960-ed6d-05ce6fd107e1"
      },
      "source": [
        "model.summary()"
      ],
      "execution_count": 142,
      "outputs": [
        {
          "output_type": "stream",
          "text": [
            "Model: \"sequential\"\n",
            "_________________________________________________________________\n",
            "Layer (type)                 Output Shape              Param #   \n",
            "=================================================================\n",
            "conv2d (Conv2D)              (None, 24, 24, 112)       2912      \n",
            "_________________________________________________________________\n",
            "conv2d_1 (Conv2D)            (None, 20, 20, 48)        134448    \n",
            "_________________________________________________________________\n",
            "flatten (Flatten)            (None, 19200)             0         \n",
            "_________________________________________________________________\n",
            "dense (Dense)                (None, 112)               2150512   \n",
            "_________________________________________________________________\n",
            "dense_1 (Dense)              (None, 10)                1130      \n",
            "=================================================================\n",
            "Total params: 2,289,002\n",
            "Trainable params: 2,289,002\n",
            "Non-trainable params: 0\n",
            "_________________________________________________________________\n"
          ],
          "name": "stdout"
        }
      ]
    },
    {
      "cell_type": "code",
      "metadata": {
        "colab": {
          "base_uri": "https://localhost:8080/"
        },
        "id": "2Hh-144RhfSN",
        "outputId": "6f7a0057-af75-42ac-8d8d-c6e73bb4163a"
      },
      "source": [
        "model.fit(train_images,train_labels,epochs = 10,validation_split = 0.1,initial_epoch= 3)"
      ],
      "execution_count": 143,
      "outputs": [
        {
          "output_type": "stream",
          "text": [
            "Epoch 4/10\n",
            "1688/1688 [==============================] - 9s 5ms/step - loss: 0.1709 - accuracy: 0.9354 - val_loss: 0.2469 - val_accuracy: 0.9132\n",
            "Epoch 5/10\n",
            "1688/1688 [==============================] - 8s 5ms/step - loss: 0.1314 - accuracy: 0.9483 - val_loss: 0.2994 - val_accuracy: 0.9068\n",
            "Epoch 6/10\n",
            "1688/1688 [==============================] - 8s 5ms/step - loss: 0.1039 - accuracy: 0.9609 - val_loss: 0.2858 - val_accuracy: 0.9047\n",
            "Epoch 7/10\n",
            "1688/1688 [==============================] - 8s 5ms/step - loss: 0.0829 - accuracy: 0.9686 - val_loss: 0.3209 - val_accuracy: 0.9087\n",
            "Epoch 8/10\n",
            "1688/1688 [==============================] - 8s 5ms/step - loss: 0.0662 - accuracy: 0.9751 - val_loss: 0.3627 - val_accuracy: 0.9065\n",
            "Epoch 9/10\n",
            "1688/1688 [==============================] - 8s 5ms/step - loss: 0.0490 - accuracy: 0.9811 - val_loss: 0.4418 - val_accuracy: 0.9027\n",
            "Epoch 10/10\n",
            "1688/1688 [==============================] - 8s 5ms/step - loss: 0.0407 - accuracy: 0.9851 - val_loss: 0.5168 - val_accuracy: 0.9017\n"
          ],
          "name": "stdout"
        },
        {
          "output_type": "execute_result",
          "data": {
            "text/plain": [
              "<tensorflow.python.keras.callbacks.History at 0x7fd39816efd0>"
            ]
          },
          "metadata": {
            "tags": []
          },
          "execution_count": 143
        }
      ]
    },
    {
      "cell_type": "markdown",
      "metadata": {
        "id": "5WAD3UyIwSMI"
      },
      "source": [
        "### Predictions"
      ]
    },
    {
      "cell_type": "code",
      "metadata": {
        "id": "MZx04mFxh8Wt"
      },
      "source": [
        "test_predict = model.predict(test_images)"
      ],
      "execution_count": 144,
      "outputs": []
    },
    {
      "cell_type": "code",
      "metadata": {
        "colab": {
          "base_uri": "https://localhost:8080/"
        },
        "id": "Vhkpl6ttiDPy",
        "outputId": "5fff47db-b819-4ea9-d566-e924ab182c91"
      },
      "source": [
        "y = np.argmax(test_predict, axis=1)\r\n",
        "y"
      ],
      "execution_count": 145,
      "outputs": [
        {
          "output_type": "execute_result",
          "data": {
            "text/plain": [
              "array([9, 2, 1, ..., 8, 1, 5])"
            ]
          },
          "metadata": {
            "tags": []
          },
          "execution_count": 145
        }
      ]
    },
    {
      "cell_type": "code",
      "metadata": {
        "colab": {
          "base_uri": "https://localhost:8080/"
        },
        "id": "L4w5ITn4iaMn",
        "outputId": "2ec07f06-d113-4a87-cdab-aa6903599a75"
      },
      "source": [
        "from sklearn.metrics import confusion_matrix,accuracy_score\r\n",
        "accuracy_score(y,test_labes)"
      ],
      "execution_count": 146,
      "outputs": [
        {
          "output_type": "execute_result",
          "data": {
            "text/plain": [
              "0.904"
            ]
          },
          "metadata": {
            "tags": []
          },
          "execution_count": 146
        }
      ]
    },
    {
      "cell_type": "code",
      "metadata": {
        "colab": {
          "base_uri": "https://localhost:8080/"
        },
        "id": "FTXRJfSrlCI1",
        "outputId": "090d757e-369b-403d-8b75-26e2943ae9c1"
      },
      "source": [
        "confusion_matrix(y,test_labes)"
      ],
      "execution_count": 147,
      "outputs": [
        {
          "output_type": "execute_result",
          "data": {
            "text/plain": [
              "array([[865,   4,  15,  25,   3,   0, 114,   0,   4,   1],\n",
              "       [  0, 975,   1,   1,   0,   0,   0,   0,   0,   0],\n",
              "       [ 29,   0, 920,  14, 130,   0, 123,   0,   7,   0],\n",
              "       [ 13,  14,   7, 898,  21,   0,  16,   0,   1,   0],\n",
              "       [  6,   3,  23,  25, 812,   0,  62,   0,   1,   0],\n",
              "       [  0,   0,   0,   0,   0, 977,   0,   6,   1,   5],\n",
              "       [ 80,   2,  33,  35,  32,   0, 672,   0,   3,   0],\n",
              "       [  0,   0,   0,   0,   0,  15,   0, 986,   1,  41],\n",
              "       [  7,   2,   1,   2,   2,   1,  13,   0, 982,   0],\n",
              "       [  0,   0,   0,   0,   0,   7,   0,   8,   0, 953]])"
            ]
          },
          "metadata": {
            "tags": []
          },
          "execution_count": 147
        }
      ]
    },
    {
      "cell_type": "markdown",
      "metadata": {
        "id": "5jWgwsWWwHtr"
      },
      "source": [
        "### Checking Predictions"
      ]
    },
    {
      "cell_type": "code",
      "metadata": {
        "colab": {
          "base_uri": "https://localhost:8080/",
          "height": 281
        },
        "id": "Jhwh7zi7lex7",
        "outputId": "405f6b93-00b6-4ebf-9dc9-8dae7b07a75c"
      },
      "source": [
        "index = random.randrange(10000)\r\n",
        "plt.title('Prediction: %s, label: %s' % (classes[y[index]], classes[test_labes[index]]))\r\n",
        "plt.imshow(orig_img[index], cmap='gray')\r\n",
        "plt.show()"
      ],
      "execution_count": 148,
      "outputs": [
        {
          "output_type": "display_data",
          "data": {
            "image/png": "[encoded data removed]",
            "text/plain": [
              "<Figure size 432x288 with 1 Axes>"
            ]
          },
          "metadata": {
            "tags": [],
            "needs_background": "light"
          }
        }
      ]
    },
    {
      "cell_type": "markdown",
      "metadata": {
        "id": "yZ3djkg9vtT3"
      },
      "source": [
        "### Error Analysis"
      ]
    },
    {
      "cell_type": "code",
      "metadata": {
        "colab": {
          "base_uri": "https://localhost:8080/",
          "height": 545
        },
        "id": "AASV7eQfsjoF",
        "outputId": "e5139ccd-fee9-4bac-f657-81759a13016c"
      },
      "source": [
        "for i in range(10000):\r\n",
        "    index = random.randrange(10000)\r\n",
        "    if y[index] != test_labes[index]:\r\n",
        "        break\r\n",
        "\r\n",
        "plt.imshow(orig_img[index], cmap='gray')\r\n",
        "plt.title('Prediction: %s, Correct label: %s' % (classes[y[index]], classes[test_labes[index]]))\r\n",
        "plt.show()\r\n",
        "\r\n",
        "plt.bar(range(10), test_predict[index], tick_label=range(10))\r\n",
        "plt.title('Prediction values')\r\n",
        "plt.show()"
      ],
      "execution_count": 149,
      "outputs": [
        {
          "output_type": "display_data",
          "data": {
            "image/png": "[encoded data removed]",
            "text/plain": [
              "<Figure size 432x288 with 1 Axes>"
            ]
          },
          "metadata": {
            "tags": [],
            "needs_background": "light"
          }
        },
        {
          "output_type": "display_data",
          "data": {
            "image/png": "[encoded data removed]",
            "text/plain": [
              "<Figure size 432x288 with 1 Axes>"
            ]
          },
          "metadata": {
            "tags": [],
            "needs_background": "light"
          }
        }
      ]
    },
    {
      "cell_type": "code",
      "metadata": {
        "id": "IFIVz3mpt8Dw"
      },
      "source": [
        ""
      ],
      "execution_count": 149,
      "outputs": []
    }
  ]
}